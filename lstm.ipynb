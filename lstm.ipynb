{
 "cells": [
  {
   "cell_type": "code",
   "execution_count": 205,
   "metadata": {},
   "outputs": [],
   "source": [
    "import numpy as np\n",
    "import matplotlib.pyplot as plt\n",
    "import pandas as pd\n",
    "from nltk.tokenize import WordPunctTokenizer\n",
    "import gensim\n",
    "from gensim.models import KeyedVectors\n",
    "from IPython.display import clear_output\n",
    "from collections import Counter\n",
    "from tqdm import tqdm\n",
    "\n",
    "%matplotlib inline"
   ]
  },
  {
   "cell_type": "code",
   "execution_count": 69,
   "metadata": {},
   "outputs": [],
   "source": [
    "def read_queries(path):\n",
    "    f = open(path, 'r')\n",
    "    #tokenizer = WordPunctTokenizer()\n",
    "    queries = []\n",
    "    \n",
    "    for line in f:\n",
    "        #queries.append(tokenizer.tokenize(line.split('\\t')[1][5:].lower()))\n",
    "        queries.append(line.split('\\t')[1][5:].lower().split())\n",
    "    return queries"
   ]
  },
  {
   "cell_type": "code",
   "execution_count": 70,
   "metadata": {},
   "outputs": [
    {
     "data": {
      "text/plain": [
       "([['за', 'рулем'],\n",
       "  ['решу', 'о'],\n",
       "  ['марципан'],\n",
       "  ['календарь', 'с', 'девушками', 'на', '2019'],\n",
       "  ['можно', 'ли', 'в', '2020', 'году', 'сдавать', 'фзк', 'огэ']],\n",
       " [['вк'],\n",
       "  ['учебник', 'по', 'обществознанию', '9', 'класс', 'боголюбова'],\n",
       "  ['жена', 'и', 'муж', 'куколд'],\n",
       "  ['самое', 'главное', 'грибы'],\n",
       "  ['почта', 'дчл', 'в', 'москве', 'стоимость']])"
      ]
     },
     "execution_count": 70,
     "metadata": {},
     "output_type": "execute_result"
    }
   ],
   "source": [
    "path = 'data/train.crash'\n",
    "train = read_queries(path)\n",
    "path = 'data/test_queries.crash'\n",
    "test = read_queries(path)\n",
    "train[:5], test[:5]"
   ]
  },
  {
   "cell_type": "markdown",
   "metadata": {},
   "source": [
    "### LSTM"
   ]
  },
  {
   "cell_type": "code",
   "execution_count": 58,
   "metadata": {},
   "outputs": [],
   "source": [
    "ru_emb = KeyedVectors.load_word2vec_format(\"cc.ru.300.vec\")"
   ]
  },
  {
   "cell_type": "code",
   "execution_count": 123,
   "metadata": {},
   "outputs": [],
   "source": [
    "unk = np.zeros(300)\n",
    "pad = np.ones(300)\n",
    "\n",
    "def to_matrix(data):\n",
    "    matrix = []\n",
    "    for sent in data:\n",
    "        mtr = []\n",
    "        mtr.append(unk)\n",
    "        for word in sent:\n",
    "            if word in ru_emb.vocab:\n",
    "                mtr.append(ru_emb[word])\n",
    "            else:\n",
    "                mtr.append(unk)\n",
    "        matrix.append(mtr)\n",
    "    return matrix"
   ]
  },
  {
   "cell_type": "code",
   "execution_count": 124,
   "metadata": {},
   "outputs": [],
   "source": [
    "train_matrix = to_matrix(train)\n",
    "test_matrix = to_matrix(test)"
   ]
  },
  {
   "cell_type": "code",
   "execution_count": 126,
   "metadata": {},
   "outputs": [],
   "source": [
    "from copy import deepcopy"
   ]
  },
  {
   "cell_type": "code",
   "execution_count": 196,
   "metadata": {},
   "outputs": [],
   "source": [
    "def transform_to_pairs(data, add_label=False, text=None):\n",
    "    X = []\n",
    "    y = []\n",
    "    labels = []\n",
    "    for j, sent in enumerate(data):\n",
    "        tmp = []\n",
    "        tmp.append(sent[0])\n",
    "        for i in range(1, len(sent)):\n",
    "            X.append(deepcopy(tmp))\n",
    "            y.append(sent[i])\n",
    "            if add_label:\n",
    "                labels.append(text[j][i-1])\n",
    "            tmp.append(sent[i])\n",
    "    if add_label:\n",
    "        return X, y, labels\n",
    "    return X, y"
   ]
  },
  {
   "cell_type": "code",
   "execution_count": 187,
   "metadata": {},
   "outputs": [],
   "source": [
    "X, y = transform_to_pairs(train_matrix)"
   ]
  },
  {
   "cell_type": "code",
   "execution_count": 188,
   "metadata": {},
   "outputs": [
    {
     "name": "stdout",
     "output_type": "stream",
     "text": [
      "Train size =  15811\n",
      "Validation size =  3953\n"
     ]
    }
   ],
   "source": [
    "from sklearn.model_selection import train_test_split\n",
    "\n",
    "X_train, X_val, y_train, y_val = train_test_split(X, y, test_size=0.2)\n",
    "\n",
    "print(\"Train size = \", len(X_train))\n",
    "print(\"Validation size = \", len(X_val))"
   ]
  },
  {
   "cell_type": "code",
   "execution_count": 189,
   "metadata": {},
   "outputs": [],
   "source": [
    "X_train = np.array(X_train)\n",
    "X_val = np.array(X_val)\n",
    "y_train = np.array(y_train)\n",
    "y_val = np.array(y_val)"
   ]
  },
  {
   "cell_type": "code",
   "execution_count": 105,
   "metadata": {},
   "outputs": [
    {
     "name": "stderr",
     "output_type": "stream",
     "text": [
      "Using TensorFlow backend.\n"
     ]
    }
   ],
   "source": [
    "import keras\n",
    "import keras.layers as L"
   ]
  },
  {
   "cell_type": "code",
   "execution_count": 190,
   "metadata": {},
   "outputs": [
    {
     "name": "stdout",
     "output_type": "stream",
     "text": [
      "_________________________________________________________________\n",
      "Layer (type)                 Output Shape              Param #   \n",
      "=================================================================\n",
      "input (InputLayer)           (None, None, 300)         0         \n",
      "_________________________________________________________________\n",
      "lstm_7 (LSTM)                (None, 32)                42624     \n",
      "_________________________________________________________________\n",
      "dense_7 (Dense)              (None, 300)               9900      \n",
      "=================================================================\n",
      "Total params: 52,524\n",
      "Trainable params: 52,524\n",
      "Non-trainable params: 0\n",
      "_________________________________________________________________\n"
     ]
    }
   ],
   "source": [
    "def build_model(emb_size=300, hid_size=32):\n",
    "    \n",
    "    l_input = L.Input(shape=[None, emb_size], name='input')\n",
    "    l_lstm = L.LSTM(units=hid_size)(l_input)\n",
    "    \n",
    "    output_layer = L.Dense(emb_size)(l_lstm)\n",
    "    \n",
    "    model = keras.models.Model(inputs=[l_input], outputs=[output_layer])\n",
    "    model.compile('adam', 'mean_squared_error', metrics=['mean_absolute_error'])\n",
    "    return model\n",
    "    \n",
    "model = build_model()\n",
    "model.summary()"
   ]
  },
  {
   "cell_type": "code",
   "execution_count": 208,
   "metadata": {},
   "outputs": [],
   "source": [
    "emb_size = 300\n",
    "\n",
    "def as_matrix(data, max_len=None):    \n",
    "    max_len = min(max(map(len, data)), max_len or float('inf'))\n",
    "    \n",
    "    #matrix = np.full((len(data), max_len, emb_size), pad)\n",
    "    matrix = np.full((len(data), max_len, emb_size), unk)\n",
    "    for i, seq in enumerate(data):\n",
    "        #matrix[i, :len(seq)] = seq\n",
    "        matrix[i, -len(seq):] = seq\n",
    "    \n",
    "    return matrix\n",
    "\n",
    "def make_batch(X_data, max_len=None):\n",
    "    batch = {}\n",
    "    batch[\"input\"] = as_matrix(X_data, max_len)\n",
    "    return batch"
   ]
  },
  {
   "cell_type": "code",
   "execution_count": 209,
   "metadata": {},
   "outputs": [
    {
     "data": {
      "text/plain": [
       "(3, 3, 300)"
      ]
     },
     "execution_count": 209,
     "metadata": {},
     "output_type": "execute_result"
    }
   ],
   "source": [
    "batch = make_batch(X_train[:3])\n",
    "batch['input'].shape"
   ]
  },
  {
   "cell_type": "code",
   "execution_count": 210,
   "metadata": {},
   "outputs": [],
   "source": [
    "def iterate_minibatches(X_data, y_data, batch_size=256, shuffle=True, cycle=False, **kwargs):\n",
    "    \"\"\" iterates minibatches of data in random order \"\"\"\n",
    "    while True:\n",
    "        indices = np.arange(len(X_data))\n",
    "        if shuffle:\n",
    "            indices = np.random.permutation(indices)\n",
    "\n",
    "        for start in range(0, len(indices), batch_size):\n",
    "            batch = make_batch(X_data[indices[start : start + batch_size]], **kwargs)\n",
    "            target = y_data[indices[start : start + batch_size]]\n",
    "            yield batch, target\n",
    "        \n",
    "        if not cycle: break"
   ]
  },
  {
   "cell_type": "code",
   "execution_count": 211,
   "metadata": {
    "scrolled": false
   },
   "outputs": [
    {
     "name": "stdout",
     "output_type": "stream",
     "text": [
      "Epoch 1/10\n",
      "100/100 [==============================] - 8s 83ms/step - loss: 0.0089 - mean_absolute_error: 0.0553 - val_loss: 0.0084 - val_mean_absolute_error: 0.0543\n",
      "Epoch 2/10\n",
      "100/100 [==============================] - 7s 66ms/step - loss: 0.0086 - mean_absolute_error: 0.0547 - val_loss: 0.0081 - val_mean_absolute_error: 0.0536\n",
      "Epoch 3/10\n",
      "100/100 [==============================] - 7s 69ms/step - loss: 0.0084 - mean_absolute_error: 0.0544 - val_loss: 0.0080 - val_mean_absolute_error: 0.0535\n",
      "Epoch 4/10\n",
      "100/100 [==============================] - 7s 71ms/step - loss: 0.0083 - mean_absolute_error: 0.0542 - val_loss: 0.0081 - val_mean_absolute_error: 0.0533\n",
      "Epoch 5/10\n",
      "100/100 [==============================] - 7s 70ms/step - loss: 0.0083 - mean_absolute_error: 0.0543 - val_loss: 0.0080 - val_mean_absolute_error: 0.0536\n",
      "Epoch 6/10\n",
      "100/100 [==============================] - 8s 80ms/step - loss: 0.0082 - mean_absolute_error: 0.0541 - val_loss: 0.0081 - val_mean_absolute_error: 0.0537\n",
      "Epoch 7/10\n",
      "100/100 [==============================] - 7s 68ms/step - loss: 0.0081 - mean_absolute_error: 0.0540 - val_loss: 0.0079 - val_mean_absolute_error: 0.0529\n",
      "Epoch 8/10\n",
      "100/100 [==============================] - 7s 73ms/step - loss: 0.0081 - mean_absolute_error: 0.0538 - val_loss: 0.0079 - val_mean_absolute_error: 0.0533\n",
      "Epoch 9/10\n",
      "100/100 [==============================] - 7s 66ms/step - loss: 0.0081 - mean_absolute_error: 0.0538 - val_loss: 0.0080 - val_mean_absolute_error: 0.0536\n",
      "Epoch 10/10\n",
      "100/100 [==============================] - 7s 69ms/step - loss: 0.0080 - mean_absolute_error: 0.0538 - val_loss: 0.0080 - val_mean_absolute_error: 0.0536\n"
     ]
    },
    {
     "data": {
      "text/plain": [
       "<keras.callbacks.History at 0x1726f7ef0>"
      ]
     },
     "execution_count": 211,
     "metadata": {},
     "output_type": "execute_result"
    }
   ],
   "source": [
    "batch_size = 256\n",
    "epochs = 10            \n",
    "steps_per_epoch = 100  \n",
    "\n",
    "model = build_model()\n",
    "\n",
    "model.fit_generator(iterate_minibatches(X_train, y_train, batch_size, cycle=True), \n",
    "                    epochs=epochs, steps_per_epoch=steps_per_epoch,\n",
    "                    \n",
    "                    validation_data=iterate_minibatches(X_val, y_val, batch_size, cycle=True),\n",
    "                    validation_steps=X_val.shape[0] // batch_size\n",
    "                   )"
   ]
  },
  {
   "cell_type": "code",
   "execution_count": 212,
   "metadata": {},
   "outputs": [
    {
     "data": {
      "text/plain": [
       "((19819,), (19819, 300), 19819)"
      ]
     },
     "execution_count": 212,
     "metadata": {},
     "output_type": "execute_result"
    }
   ],
   "source": [
    "X_test, y_test, label_test = transform_to_pairs(test_matrix, add_label=True, text=test)\n",
    "X_test = np.array(X_test)\n",
    "y_test = np.array(y_test)\n",
    "X_test.shape, y_test.shape, len(label_test)"
   ]
  },
  {
   "cell_type": "code",
   "execution_count": 213,
   "metadata": {},
   "outputs": [
    {
     "name": "stdout",
     "output_type": "stream",
     "text": [
      "In progress 768 / 19819, accuracy = 0.044270833333333336\n"
     ]
    },
    {
     "ename": "KeyboardInterrupt",
     "evalue": "",
     "output_type": "error",
     "traceback": [
      "\u001b[0;31m---------------------------------------------------------------------------\u001b[0m",
      "\u001b[0;31mKeyboardInterrupt\u001b[0m                         Traceback (most recent call last)",
      "\u001b[0;32m<ipython-input-213-ace346c6691a>\u001b[0m in \u001b[0;36m<module>\u001b[0;34m\u001b[0m\n\u001b[1;32m     14\u001b[0m     \u001b[0;32mreturn\u001b[0m \u001b[0mall_accr\u001b[0m \u001b[0;34m/\u001b[0m \u001b[0mall_count\u001b[0m\u001b[0;34m\u001b[0m\u001b[0;34m\u001b[0m\u001b[0m\n\u001b[1;32m     15\u001b[0m \u001b[0;34m\u001b[0m\u001b[0m\n\u001b[0;32m---> 16\u001b[0;31m \u001b[0mcalculate_accuracy\u001b[0m\u001b[0;34m(\u001b[0m\u001b[0mmodel\u001b[0m\u001b[0;34m,\u001b[0m \u001b[0mX_test\u001b[0m\u001b[0;34m,\u001b[0m \u001b[0my_test\u001b[0m\u001b[0;34m,\u001b[0m \u001b[0mlabel_test\u001b[0m\u001b[0;34m)\u001b[0m\u001b[0;34m\u001b[0m\u001b[0;34m\u001b[0m\u001b[0m\n\u001b[0m",
      "\u001b[0;32m<ipython-input-213-ace346c6691a>\u001b[0m in \u001b[0;36mcalculate_accuracy\u001b[0;34m(model, X_test, y_test, label_test)\u001b[0m\n\u001b[1;32m      6\u001b[0m         \u001b[0mbatch_pred\u001b[0m \u001b[0;34m=\u001b[0m \u001b[0mmodel\u001b[0m\u001b[0;34m.\u001b[0m\u001b[0mpredict\u001b[0m\u001b[0;34m(\u001b[0m\u001b[0mbatch_x\u001b[0m\u001b[0;34m)\u001b[0m\u001b[0;34m\u001b[0m\u001b[0;34m\u001b[0m\u001b[0m\n\u001b[1;32m      7\u001b[0m         \u001b[0;32mfor\u001b[0m \u001b[0mk\u001b[0m \u001b[0;32min\u001b[0m \u001b[0mbatch_pred\u001b[0m\u001b[0;34m:\u001b[0m\u001b[0;34m\u001b[0m\u001b[0;34m\u001b[0m\u001b[0m\n\u001b[0;32m----> 8\u001b[0;31m             \u001b[0;32mif\u001b[0m \u001b[0mlabel_test\u001b[0m\u001b[0;34m[\u001b[0m\u001b[0mall_count\u001b[0m\u001b[0;34m]\u001b[0m \u001b[0;34m==\u001b[0m \u001b[0mru_emb\u001b[0m\u001b[0;34m.\u001b[0m\u001b[0mmost_similar\u001b[0m\u001b[0;34m(\u001b[0m\u001b[0;34m[\u001b[0m\u001b[0mk\u001b[0m\u001b[0;34m]\u001b[0m\u001b[0;34m,\u001b[0m \u001b[0mtopn\u001b[0m\u001b[0;34m=\u001b[0m\u001b[0;36m1\u001b[0m\u001b[0;34m)\u001b[0m\u001b[0;34m[\u001b[0m\u001b[0;36m0\u001b[0m\u001b[0;34m]\u001b[0m\u001b[0;34m[\u001b[0m\u001b[0;36m0\u001b[0m\u001b[0;34m]\u001b[0m\u001b[0;34m:\u001b[0m\u001b[0;34m\u001b[0m\u001b[0;34m\u001b[0m\u001b[0m\n\u001b[0m\u001b[1;32m      9\u001b[0m                 \u001b[0mall_accr\u001b[0m \u001b[0;34m+=\u001b[0m \u001b[0;36m1\u001b[0m\u001b[0;34m\u001b[0m\u001b[0;34m\u001b[0m\u001b[0m\n\u001b[1;32m     10\u001b[0m             \u001b[0mall_count\u001b[0m \u001b[0;34m+=\u001b[0m \u001b[0;36m1\u001b[0m\u001b[0;34m\u001b[0m\u001b[0;34m\u001b[0m\u001b[0m\n",
      "\u001b[0;32m/usr/local/lib/python3.7/site-packages/gensim/models/keyedvectors.py\u001b[0m in \u001b[0;36mmost_similar\u001b[0;34m(self, positive, negative, topn, restrict_vocab, indexer)\u001b[0m\n\u001b[1;32m    553\u001b[0m \u001b[0;34m\u001b[0m\u001b[0m\n\u001b[1;32m    554\u001b[0m         \u001b[0mlimited\u001b[0m \u001b[0;34m=\u001b[0m \u001b[0mself\u001b[0m\u001b[0;34m.\u001b[0m\u001b[0mvectors_norm\u001b[0m \u001b[0;32mif\u001b[0m \u001b[0mrestrict_vocab\u001b[0m \u001b[0;32mis\u001b[0m \u001b[0;32mNone\u001b[0m \u001b[0;32melse\u001b[0m \u001b[0mself\u001b[0m\u001b[0;34m.\u001b[0m\u001b[0mvectors_norm\u001b[0m\u001b[0;34m[\u001b[0m\u001b[0;34m:\u001b[0m\u001b[0mrestrict_vocab\u001b[0m\u001b[0;34m]\u001b[0m\u001b[0;34m\u001b[0m\u001b[0;34m\u001b[0m\u001b[0m\n\u001b[0;32m--> 555\u001b[0;31m         \u001b[0mdists\u001b[0m \u001b[0;34m=\u001b[0m \u001b[0mdot\u001b[0m\u001b[0;34m(\u001b[0m\u001b[0mlimited\u001b[0m\u001b[0;34m,\u001b[0m \u001b[0mmean\u001b[0m\u001b[0;34m)\u001b[0m\u001b[0;34m\u001b[0m\u001b[0;34m\u001b[0m\u001b[0m\n\u001b[0m\u001b[1;32m    556\u001b[0m         \u001b[0;32mif\u001b[0m \u001b[0mtopn\u001b[0m \u001b[0;32mis\u001b[0m \u001b[0;32mNone\u001b[0m\u001b[0;34m:\u001b[0m\u001b[0;34m\u001b[0m\u001b[0;34m\u001b[0m\u001b[0m\n\u001b[1;32m    557\u001b[0m             \u001b[0;32mreturn\u001b[0m \u001b[0mdists\u001b[0m\u001b[0;34m\u001b[0m\u001b[0;34m\u001b[0m\u001b[0m\n",
      "\u001b[0;31mKeyboardInterrupt\u001b[0m: "
     ]
    }
   ],
   "source": [
    "def calculate_accuracy(model, X_test, y_test, label_test):   \n",
    "    #squared_error = abs_error = num_samples = 0.0\n",
    "    all_accr = 0\n",
    "    all_count = 0\n",
    "    for batch_x, batch_y in iterate_minibatches(X_test, y_test, batch_size=batch_size, shuffle=False):\n",
    "        batch_pred = model.predict(batch_x)\n",
    "        for k in batch_pred:\n",
    "            if label_test[all_count] == ru_emb.most_similar([k], topn=1)[0][0]:\n",
    "                all_accr += 1\n",
    "            all_count += 1\n",
    "        clear_output()\n",
    "        print('In progress {} / {}, accuracy = {}'.format(all_count, len(X_test), all_accr / all_count), flush=True)\n",
    "     \n",
    "    return all_accr / all_count\n",
    "    \n",
    "calculate_accuracy(model, X_test, y_test, label_test)"
   ]
  },
  {
   "cell_type": "code",
   "execution_count": null,
   "metadata": {},
   "outputs": [],
   "source": []
  }
 ],
 "metadata": {
  "kernelspec": {
   "display_name": "Python 3",
   "language": "python",
   "name": "python3"
  },
  "language_info": {
   "codemirror_mode": {
    "name": "ipython",
    "version": 3
   },
   "file_extension": ".py",
   "mimetype": "text/x-python",
   "name": "python",
   "nbconvert_exporter": "python",
   "pygments_lexer": "ipython3",
   "version": "3.7.1"
  }
 },
 "nbformat": 4,
 "nbformat_minor": 2
}
