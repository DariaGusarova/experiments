{
 "cells": [
  {
   "cell_type": "code",
   "execution_count": 20,
   "metadata": {},
   "outputs": [],
   "source": [
    "import numpy as np\n",
    "import matplotlib.pyplot as plt\n",
    "import pandas as pd\n",
    "from nltk.tokenize import WordPunctTokenizer\n",
    "import gensim\n",
    "from gensim.models import KeyedVectors\n",
    "from IPython.display import clear_output\n",
    "from collections import Counter\n",
    "from tqdm import tqdm\n",
    "\n",
    "%matplotlib inline"
   ]
  },
  {
   "cell_type": "code",
   "execution_count": 41,
   "metadata": {},
   "outputs": [],
   "source": [
    "%run utils.py"
   ]
  },
  {
   "cell_type": "code",
   "execution_count": 22,
   "metadata": {},
   "outputs": [
    {
     "data": {
      "text/plain": [
       "([['сибирские', 'сети', 'личный', 'кабинет', 'бердск'],\n",
       "  ['1', 'сантим', 'алжир', '1964'],\n",
       "  ['река', 'колыма', 'на', 'карте', 'россии'],\n",
       "  ['ноофен', 'для', 'каких', 'болезней'],\n",
       "  ['маус', 'хаус', 'спб']],\n",
       " [['сбербанк', 'в', 'кунцево', 'плаза'],\n",
       "  ['торт', 'дикая', 'вишня'],\n",
       "  ['тася', 'кривун', 'танцы', 'на', 'тнт'],\n",
       "  ['рбт', 'ру'],\n",
       "  ['toplü', 'vay', 'sexx']])"
      ]
     },
     "execution_count": 22,
     "metadata": {},
     "output_type": "execute_result"
    }
   ],
   "source": [
    "path = 'data/requests.uniq.train'\n",
    "train = read_queries(path)\n",
    "path = 'data/requests.uniq.test'\n",
    "test = read_queries(path)\n",
    "train[:5], test[:5]"
   ]
  },
  {
   "cell_type": "code",
   "execution_count": 56,
   "metadata": {},
   "outputs": [
    {
     "data": {
      "text/plain": [
       "(51352, 21173)"
      ]
     },
     "execution_count": 56,
     "metadata": {},
     "output_type": "execute_result"
    }
   ],
   "source": [
    "len(train), len(test)"
   ]
  },
  {
   "cell_type": "code",
   "execution_count": 58,
   "metadata": {},
   "outputs": [
    {
     "data": {
      "text/plain": [
       "3.528833333333333"
      ]
     },
     "execution_count": 58,
     "metadata": {},
     "output_type": "execute_result"
    }
   ],
   "source": [
    "len(test) / 100 / 60"
   ]
  },
  {
   "cell_type": "markdown",
   "metadata": {},
   "source": [
    "### LSTM с различными эмбеддингами"
   ]
  },
  {
   "cell_type": "code",
   "execution_count": 9,
   "metadata": {
    "scrolled": true
   },
   "outputs": [],
   "source": [
    "emb_1 = KeyedVectors.load_word2vec_format(\"cc.ru.300.vec\")"
   ]
  },
  {
   "cell_type": "code",
   "execution_count": 4,
   "metadata": {},
   "outputs": [],
   "source": [
    "emb = KeyedVectors.load_word2vec_format(\"wiki.ru.vec\")"
   ]
  },
  {
   "cell_type": "code",
   "execution_count": 15,
   "metadata": {},
   "outputs": [],
   "source": [
    "emb_2 = KeyedVectors.load_word2vec_format(\"ft_native_300_ru_wiki_lenta_lower_case.vec\")"
   ]
  },
  {
   "cell_type": "code",
   "execution_count": 16,
   "metadata": {},
   "outputs": [
    {
     "data": {
      "text/plain": [
       "(1888423, 600000, 1572343)"
      ]
     },
     "execution_count": 16,
     "metadata": {},
     "output_type": "execute_result"
    }
   ],
   "source": [
    "len(emb.vocab), len(emb_1.vocab), len(emb_2.vocab)"
   ]
  },
  {
   "cell_type": "code",
   "execution_count": 17,
   "metadata": {},
   "outputs": [
    {
     "data": {
      "text/plain": [
       "(300, 300, 300)"
      ]
     },
     "execution_count": 17,
     "metadata": {},
     "output_type": "execute_result"
    }
   ],
   "source": [
    "len(emb['кот']), len(emb_1['кот']), len(emb_2['кот'])"
   ]
  },
  {
   "cell_type": "code",
   "execution_count": 13,
   "metadata": {},
   "outputs": [
    {
     "data": {
      "text/plain": [
       "array([ 0.27378 ,  0.11676 ,  0.035767, -0.12235 ,  0.13553 , -0.15986 ,\n",
       "        0.21151 ,  0.045899,  0.11613 ,  0.041385], dtype=float32)"
      ]
     },
     "execution_count": 13,
     "metadata": {},
     "output_type": "execute_result"
    }
   ],
   "source": [
    "emb['кот'][:10]"
   ]
  },
  {
   "cell_type": "code",
   "execution_count": 14,
   "metadata": {},
   "outputs": [
    {
     "data": {
      "text/plain": [
       "array([ 0.2247, -0.122 , -0.0671, -0.1001, -0.0297, -0.1969,  0.2059,\n",
       "        0.0064,  0.006 , -0.0467], dtype=float32)"
      ]
     },
     "execution_count": 14,
     "metadata": {},
     "output_type": "execute_result"
    }
   ],
   "source": [
    "emb_1['кот'][:10]"
   ]
  },
  {
   "cell_type": "code",
   "execution_count": 18,
   "metadata": {},
   "outputs": [
    {
     "data": {
      "text/plain": [
       "array([-0.07867 , -0.1209  ,  0.17033 , -0.26766 , -0.47554 ,  0.013102,\n",
       "       -0.020578, -0.50883 , -0.21604 ,  0.47134 ], dtype=float32)"
      ]
     },
     "execution_count": 18,
     "metadata": {},
     "output_type": "execute_result"
    }
   ],
   "source": [
    "emb_2['кот'][:10]"
   ]
  },
  {
   "cell_type": "code",
   "execution_count": 31,
   "metadata": {},
   "outputs": [
    {
     "name": "stdout",
     "output_type": "stream",
     "text": [
      "41081 10271\n"
     ]
    }
   ],
   "source": [
    "emb_size = 300\n",
    "\n",
    "train_part, valid_part = split_to_train_and_validation(train)\n",
    "print(len(train_part), len(valid_part))"
   ]
  },
  {
   "cell_type": "code",
   "execution_count": 25,
   "metadata": {},
   "outputs": [
    {
     "name": "stderr",
     "output_type": "stream",
     "text": [
      "Using TensorFlow backend.\n"
     ]
    }
   ],
   "source": [
    "import keras\n",
    "import keras.layers as L"
   ]
  },
  {
   "cell_type": "code",
   "execution_count": 27,
   "metadata": {},
   "outputs": [
    {
     "name": "stdout",
     "output_type": "stream",
     "text": [
      "_________________________________________________________________\n",
      "Layer (type)                 Output Shape              Param #   \n",
      "=================================================================\n",
      "input (InputLayer)           (None, None, 300)         0         \n",
      "_________________________________________________________________\n",
      "lstm_2 (LSTM)                (None, 128)               219648    \n",
      "_________________________________________________________________\n",
      "dense_2 (Dense)              (None, 300)               38700     \n",
      "=================================================================\n",
      "Total params: 258,348\n",
      "Trainable params: 258,348\n",
      "Non-trainable params: 0\n",
      "_________________________________________________________________\n"
     ]
    }
   ],
   "source": [
    "def build_model(emb_size=300, hid_size=128):\n",
    "    \n",
    "    l_input = L.Input(shape=[None, emb_size], name='input')\n",
    "    l_lstm = L.LSTM(units=hid_size)(l_input)\n",
    "    \n",
    "    output_layer = L.Dense(emb_size)(l_lstm)\n",
    "    \n",
    "    model = keras.models.Model(inputs=[l_input], outputs=[output_layer])\n",
    "    model.compile('adam', 'mean_squared_error', metrics=['mean_absolute_error'])\n",
    "    return model\n",
    "    \n",
    "model = build_model()\n",
    "model.summary()"
   ]
  },
  {
   "cell_type": "code",
   "execution_count": 34,
   "metadata": {},
   "outputs": [
    {
     "data": {
      "text/plain": [
       "(121818, 30650, 15279, 3847)"
      ]
     },
     "execution_count": 34,
     "metadata": {},
     "output_type": "execute_result"
    }
   ],
   "source": [
    "train_prefixs, train_next_words, train_lost = transform(emb_1, train_part)\n",
    "valid_prefixs, valid_next_words, val_lost = transform(emb_1, valid_part)\n",
    "\n",
    "train_prefixs = np.array(train_prefixs)\n",
    "train_next_words = np.array(train_next_words)\n",
    "valid_prefixs = np.array(valid_prefixs)\n",
    "valid_next_words = np.array(valid_next_words)\n",
    "len(train_prefixs), len(valid_prefixs), train_lost, val_lost"
   ]
  },
  {
   "cell_type": "code",
   "execution_count": 35,
   "metadata": {
    "scrolled": true
   },
   "outputs": [
    {
     "name": "stdout",
     "output_type": "stream",
     "text": [
      "Epoch 1/20\n",
      "500/500 [==============================] - 27s 55ms/step - loss: 0.0105 - mean_absolute_error: 0.0636 - val_loss: 0.0104 - val_mean_absolute_error: 0.0640\n",
      "Epoch 2/20\n",
      "500/500 [==============================] - 24s 48ms/step - loss: 0.0102 - mean_absolute_error: 0.0628 - val_loss: 0.0103 - val_mean_absolute_error: 0.0637\n",
      "Epoch 3/20\n",
      "500/500 [==============================] - 24s 49ms/step - loss: 0.0101 - mean_absolute_error: 0.0625 - val_loss: 0.0103 - val_mean_absolute_error: 0.0637\n",
      "Epoch 4/20\n",
      "500/500 [==============================] - 25s 50ms/step - loss: 0.0099 - mean_absolute_error: 0.0620 - val_loss: 0.0102 - val_mean_absolute_error: 0.0635\n",
      "Epoch 5/20\n",
      "500/500 [==============================] - 24s 47ms/step - loss: 0.0099 - mean_absolute_error: 0.0620 - val_loss: 0.0102 - val_mean_absolute_error: 0.0635\n",
      "Epoch 6/20\n",
      "500/500 [==============================] - 23s 46ms/step - loss: 0.0098 - mean_absolute_error: 0.0617 - val_loss: 0.0099 - val_mean_absolute_error: 0.0622\n",
      "Epoch 7/20\n",
      "500/500 [==============================] - 25s 51ms/step - loss: 0.0097 - mean_absolute_error: 0.0615 - val_loss: 0.0098 - val_mean_absolute_error: 0.0618\n",
      "Epoch 8/20\n",
      "500/500 [==============================] - 26s 51ms/step - loss: 0.0097 - mean_absolute_error: 0.0613 - val_loss: 0.0098 - val_mean_absolute_error: 0.0616\n",
      "Epoch 9/20\n",
      "500/500 [==============================] - 24s 48ms/step - loss: 0.0096 - mean_absolute_error: 0.0612 - val_loss: 0.0098 - val_mean_absolute_error: 0.0616\n",
      "Epoch 10/20\n",
      "500/500 [==============================] - 24s 48ms/step - loss: 0.0096 - mean_absolute_error: 0.0610 - val_loss: 0.0097 - val_mean_absolute_error: 0.0616\n",
      "Epoch 11/20\n",
      "500/500 [==============================] - 24s 48ms/step - loss: 0.0098 - mean_absolute_error: 0.0614 - val_loss: 0.0108 - val_mean_absolute_error: 0.0631\n",
      "Epoch 12/20\n",
      "500/500 [==============================] - 24s 49ms/step - loss: 0.0096 - mean_absolute_error: 0.0611 - val_loss: 0.0104 - val_mean_absolute_error: 0.0621\n",
      "Epoch 13/20\n",
      "500/500 [==============================] - 24s 48ms/step - loss: 0.0095 - mean_absolute_error: 0.0608 - val_loss: 0.0104 - val_mean_absolute_error: 0.0620\n",
      "Epoch 14/20\n",
      "500/500 [==============================] - 24s 49ms/step - loss: 0.0095 - mean_absolute_error: 0.0608 - val_loss: 0.0104 - val_mean_absolute_error: 0.0622\n",
      "Epoch 15/20\n",
      "500/500 [==============================] - 24s 49ms/step - loss: 0.0094 - mean_absolute_error: 0.0606 - val_loss: 0.0104 - val_mean_absolute_error: 0.0620\n",
      "Epoch 16/20\n",
      "500/500 [==============================] - 26s 52ms/step - loss: 0.0094 - mean_absolute_error: 0.0606 - val_loss: 0.0104 - val_mean_absolute_error: 0.0620\n",
      "Epoch 17/20\n",
      "500/500 [==============================] - 25s 50ms/step - loss: 0.0094 - mean_absolute_error: 0.0606 - val_loss: 0.0105 - val_mean_absolute_error: 0.0621\n",
      "Epoch 18/20\n",
      "500/500 [==============================] - 26s 51ms/step - loss: 0.0093 - mean_absolute_error: 0.0605 - val_loss: 0.0105 - val_mean_absolute_error: 0.0623\n",
      "Epoch 19/20\n",
      "500/500 [==============================] - 25s 51ms/step - loss: 0.0093 - mean_absolute_error: 0.0604 - val_loss: 0.0108 - val_mean_absolute_error: 0.0623\n",
      "Epoch 20/20\n",
      "500/500 [==============================] - 27s 55ms/step - loss: 0.0093 - mean_absolute_error: 0.0606 - val_loss: 0.0108 - val_mean_absolute_error: 0.0625\n"
     ]
    }
   ],
   "source": [
    "batch_size = 256\n",
    "epochs = 20          \n",
    "steps_per_epoch = 500 \n",
    "\n",
    "model = build_model()\n",
    "\n",
    "history = model.fit_generator(iterate_minibatches(emb_1, emb_size, train_prefixs, train_next_words, batch_size, cycle=True), \n",
    "                    epochs=epochs, steps_per_epoch=steps_per_epoch,\n",
    "                    \n",
    "                    validation_data=iterate_minibatches(emb_1, emb_size, valid_prefixs, valid_next_words, batch_size, cycle=True),\n",
    "                    validation_steps=len(valid_prefixs) // batch_size\n",
    "                   )"
   ]
  },
  {
   "cell_type": "code",
   "execution_count": 69,
   "metadata": {},
   "outputs": [
    {
     "data": {
      "text/plain": [
       "(62293, 7853)"
      ]
     },
     "execution_count": 69,
     "metadata": {},
     "output_type": "execute_result"
    }
   ],
   "source": [
    "test_prefixs, test_next_words, test_lost = transform(emb_1, test)\n",
    "test_prefixs = np.array(test_prefixs)\n",
    "test_next_words = np.array(test_next_words)\n",
    "len(test_prefixs), test_lost"
   ]
  },
  {
   "cell_type": "code",
   "execution_count": 82,
   "metadata": {},
   "outputs": [],
   "source": [
    "def draw_dist(emb, model, prefixs, next_words, bound=5, to_use=512):\n",
    "    indices = np.arange(len(prefixs))\n",
    "    lens = np.array(list(map(len, test_prefixs)))\n",
    "    lens = lens[indices]\n",
    "    lens = np.hstack([indices.reshape(-1, 1), lens.reshape(-1, 1)])\n",
    "    indices = np.array(sorted(lens, key=lambda x : x[1]))\n",
    "    changes = []\n",
    "    i = 0\n",
    "    while i < len(indices):\n",
    "        changes.append(i)\n",
    "        while i < len(indices) and indices[i][1] == len(changes):\n",
    "            i += 1\n",
    "    indices = indices[:, 0]\n",
    "    groups = []\n",
    "    for i in range(bound):\n",
    "        left = changes[i]\n",
    "        right = min(changes[i+1], left+to_use)\n",
    "        groups.append(indices[left:right])\n",
    "    res = []\n",
    "    for i in range(bound):\n",
    "        X = as_matrix(emb, emb_size, prefixs[groups[i]])\n",
    "        y = as_matrix_target(emb, emb_size, next_words[groups[i]])\n",
    "        pred = model.predict(X)\n",
    "        accr = 0\n",
    "        count = 0\n",
    "        for j, k in enumerate(pred):\n",
    "            if emb.most_similar([k], topn=1)[0][0] == emb.most_similar([y[j]], topn=1)[0][0]:\n",
    "                accr += 1\n",
    "            count += 1\n",
    "        res.append(accr / count)\n",
    "        print(accr / count)\n",
    "    return res"
   ]
  },
  {
   "cell_type": "code",
   "execution_count": 84,
   "metadata": {},
   "outputs": [
    {
     "name": "stdout",
     "output_type": "stream",
     "text": [
      "0.0703125\n",
      "0.091796875\n",
      "0.091796875\n",
      "0.095703125\n",
      "0.09375\n",
      "0.125\n",
      "0.12109375\n",
      "0.095703125\n",
      "0.072265625\n",
      "0.06552706552706553\n"
     ]
    }
   ],
   "source": [
    "first = draw_dist(emb_1, model, test_prefixs, test_next_words, bound=10)"
   ]
  },
  {
   "cell_type": "code",
   "execution_count": 50,
   "metadata": {
    "scrolled": true
   },
   "outputs": [
    {
     "name": "stdout",
     "output_type": "stream",
     "text": [
      "In progress 1280 / 62293, accuracy = 0.06328125\n"
     ]
    },
    {
     "ename": "KeyboardInterrupt",
     "evalue": "",
     "output_type": "error",
     "traceback": [
      "\u001b[0;31m---------------------------------------------------------------------------\u001b[0m",
      "\u001b[0;31mKeyboardInterrupt\u001b[0m                         Traceback (most recent call last)",
      "\u001b[0;32m<ipython-input-50-dd50ed5b72fd>\u001b[0m in \u001b[0;36m<module>\u001b[0;34m\u001b[0m\n\u001b[0;32m----> 1\u001b[0;31m \u001b[0mcalculate_accuracy\u001b[0m\u001b[0;34m(\u001b[0m\u001b[0mmodel\u001b[0m\u001b[0;34m,\u001b[0m \u001b[0memb_1\u001b[0m\u001b[0;34m,\u001b[0m \u001b[0memb_size\u001b[0m\u001b[0;34m,\u001b[0m \u001b[0mtest_lost\u001b[0m\u001b[0;34m,\u001b[0m \u001b[0;36m256\u001b[0m\u001b[0;34m,\u001b[0m \u001b[0mtest_prefixs\u001b[0m\u001b[0;34m,\u001b[0m \u001b[0mtest_next_words\u001b[0m\u001b[0;34m)\u001b[0m\u001b[0;34m\u001b[0m\u001b[0;34m\u001b[0m\u001b[0m\n\u001b[0m",
      "\u001b[0;32m~/experiments/utils.py\u001b[0m in \u001b[0;36mcalculate_accuracy\u001b[0;34m(model, emb, emb_size, shift, batch_size, test_prefixs, test_next_words)\u001b[0m\n\u001b[1;32m    114\u001b[0m         \u001b[0mbatch_pred\u001b[0m \u001b[0;34m=\u001b[0m \u001b[0mmodel\u001b[0m\u001b[0;34m.\u001b[0m\u001b[0mpredict\u001b[0m\u001b[0;34m(\u001b[0m\u001b[0mbatch_x\u001b[0m\u001b[0;34m)\u001b[0m\u001b[0;34m\u001b[0m\u001b[0;34m\u001b[0m\u001b[0m\n\u001b[1;32m    115\u001b[0m         \u001b[0;32mfor\u001b[0m \u001b[0mj\u001b[0m\u001b[0;34m,\u001b[0m \u001b[0mk\u001b[0m \u001b[0;32min\u001b[0m \u001b[0menumerate\u001b[0m\u001b[0;34m(\u001b[0m\u001b[0mbatch_pred\u001b[0m\u001b[0;34m)\u001b[0m\u001b[0;34m:\u001b[0m\u001b[0;34m\u001b[0m\u001b[0;34m\u001b[0m\u001b[0m\n\u001b[0;32m--> 116\u001b[0;31m             \u001b[0;32mif\u001b[0m \u001b[0memb\u001b[0m\u001b[0;34m.\u001b[0m\u001b[0mmost_similar\u001b[0m\u001b[0;34m(\u001b[0m\u001b[0;34m[\u001b[0m\u001b[0mk\u001b[0m\u001b[0;34m]\u001b[0m\u001b[0;34m,\u001b[0m \u001b[0mtopn\u001b[0m\u001b[0;34m=\u001b[0m\u001b[0;36m1\u001b[0m\u001b[0;34m)\u001b[0m\u001b[0;34m[\u001b[0m\u001b[0;36m0\u001b[0m\u001b[0;34m]\u001b[0m\u001b[0;34m[\u001b[0m\u001b[0;36m0\u001b[0m\u001b[0;34m]\u001b[0m \u001b[0;34m==\u001b[0m \u001b[0memb\u001b[0m\u001b[0;34m.\u001b[0m\u001b[0mmost_similar\u001b[0m\u001b[0;34m(\u001b[0m\u001b[0;34m[\u001b[0m\u001b[0mbatch_y\u001b[0m\u001b[0;34m[\u001b[0m\u001b[0mj\u001b[0m\u001b[0;34m]\u001b[0m\u001b[0;34m]\u001b[0m\u001b[0;34m,\u001b[0m \u001b[0mtopn\u001b[0m\u001b[0;34m=\u001b[0m\u001b[0;36m1\u001b[0m\u001b[0;34m)\u001b[0m\u001b[0;34m[\u001b[0m\u001b[0;36m0\u001b[0m\u001b[0;34m]\u001b[0m\u001b[0;34m[\u001b[0m\u001b[0;36m0\u001b[0m\u001b[0;34m]\u001b[0m\u001b[0;34m:\u001b[0m\u001b[0;34m\u001b[0m\u001b[0;34m\u001b[0m\u001b[0m\n\u001b[0m\u001b[1;32m    117\u001b[0m                 \u001b[0mall_accr\u001b[0m \u001b[0;34m+=\u001b[0m \u001b[0;36m1\u001b[0m\u001b[0;34m\u001b[0m\u001b[0;34m\u001b[0m\u001b[0m\n\u001b[1;32m    118\u001b[0m             \u001b[0mall_count\u001b[0m \u001b[0;34m+=\u001b[0m \u001b[0;36m1\u001b[0m\u001b[0;34m\u001b[0m\u001b[0;34m\u001b[0m\u001b[0m\n",
      "\u001b[0;32m/usr/local/lib/python3.7/site-packages/gensim/models/keyedvectors.py\u001b[0m in \u001b[0;36mmost_similar\u001b[0;34m(self, positive, negative, topn, restrict_vocab, indexer)\u001b[0m\n\u001b[1;32m    553\u001b[0m \u001b[0;34m\u001b[0m\u001b[0m\n\u001b[1;32m    554\u001b[0m         \u001b[0mlimited\u001b[0m \u001b[0;34m=\u001b[0m \u001b[0mself\u001b[0m\u001b[0;34m.\u001b[0m\u001b[0mvectors_norm\u001b[0m \u001b[0;32mif\u001b[0m \u001b[0mrestrict_vocab\u001b[0m \u001b[0;32mis\u001b[0m \u001b[0;32mNone\u001b[0m \u001b[0;32melse\u001b[0m \u001b[0mself\u001b[0m\u001b[0;34m.\u001b[0m\u001b[0mvectors_norm\u001b[0m\u001b[0;34m[\u001b[0m\u001b[0;34m:\u001b[0m\u001b[0mrestrict_vocab\u001b[0m\u001b[0;34m]\u001b[0m\u001b[0;34m\u001b[0m\u001b[0;34m\u001b[0m\u001b[0m\n\u001b[0;32m--> 555\u001b[0;31m         \u001b[0mdists\u001b[0m \u001b[0;34m=\u001b[0m \u001b[0mdot\u001b[0m\u001b[0;34m(\u001b[0m\u001b[0mlimited\u001b[0m\u001b[0;34m,\u001b[0m \u001b[0mmean\u001b[0m\u001b[0;34m)\u001b[0m\u001b[0;34m\u001b[0m\u001b[0;34m\u001b[0m\u001b[0m\n\u001b[0m\u001b[1;32m    556\u001b[0m         \u001b[0;32mif\u001b[0m \u001b[0mtopn\u001b[0m \u001b[0;32mis\u001b[0m \u001b[0;32mNone\u001b[0m\u001b[0;34m:\u001b[0m\u001b[0;34m\u001b[0m\u001b[0;34m\u001b[0m\u001b[0m\n\u001b[1;32m    557\u001b[0m             \u001b[0;32mreturn\u001b[0m \u001b[0mdists\u001b[0m\u001b[0;34m\u001b[0m\u001b[0;34m\u001b[0m\u001b[0m\n",
      "\u001b[0;31mKeyboardInterrupt\u001b[0m: "
     ]
    }
   ],
   "source": [
    "calculate_accuracy(model, emb_1, emb_size, test_lost, 256, test_prefixs, test_next_words)"
   ]
  },
  {
   "cell_type": "code",
   "execution_count": 64,
   "metadata": {},
   "outputs": [
    {
     "data": {
      "image/png": "[encoded data removed]",
      "text/plain": [
       "<Figure size 864x360 with 1 Axes>"
      ]
     },
     "metadata": {
      "needs_background": "light"
     },
     "output_type": "display_data"
    }
   ],
   "source": [
    "plt.figure(figsize=(12, 5))\n",
    "plt.plot(history.history['loss'], label='train loss')\n",
    "plt.plot(history.history['val_loss'], label='validation loss')\n",
    "plt.title('pretrained on news corpus and twitter', fontsize=15)\n",
    "plt.xlabel('epochs', fontsize=15)\n",
    "plt.legend()\n",
    "plt.grid()\n",
    "plt.show()"
   ]
  },
  {
   "cell_type": "code",
   "execution_count": 43,
   "metadata": {},
   "outputs": [
    {
     "data": {
      "text/plain": [
       "(121610, 30589, 15487, 3908)"
      ]
     },
     "execution_count": 43,
     "metadata": {},
     "output_type": "execute_result"
    }
   ],
   "source": [
    "train_prefixs, train_next_words, train_lost = transform(emb, train_part)\n",
    "valid_prefixs, valid_next_words, val_lost = transform(emb, valid_part)\n",
    "\n",
    "train_prefixs = np.array(train_prefixs)\n",
    "train_next_words = np.array(train_next_words)\n",
    "valid_prefixs = np.array(valid_prefixs)\n",
    "valid_next_words = np.array(valid_next_words)\n",
    "len(train_prefixs), len(valid_prefixs), train_lost, val_lost"
   ]
  },
  {
   "cell_type": "code",
   "execution_count": 44,
   "metadata": {
    "scrolled": true
   },
   "outputs": [
    {
     "name": "stdout",
     "output_type": "stream",
     "text": [
      "Epoch 1/20\n",
      "500/500 [==============================] - 27s 53ms/step - loss: 0.0625 - mean_absolute_error: 0.1942 - val_loss: 0.0625 - val_mean_absolute_error: 0.1947\n",
      "Epoch 2/20\n",
      "500/500 [==============================] - 25s 49ms/step - loss: 0.0603 - mean_absolute_error: 0.1902 - val_loss: 0.0609 - val_mean_absolute_error: 0.1917\n",
      "Epoch 3/20\n",
      "500/500 [==============================] - 24s 48ms/step - loss: 0.0596 - mean_absolute_error: 0.1888 - val_loss: 0.0602 - val_mean_absolute_error: 0.1902\n",
      "Epoch 4/20\n",
      "500/500 [==============================] - 25s 50ms/step - loss: 0.0592 - mean_absolute_error: 0.1879 - val_loss: 0.0599 - val_mean_absolute_error: 0.1895\n",
      "Epoch 5/20\n",
      "500/500 [==============================] - 25s 50ms/step - loss: 0.0588 - mean_absolute_error: 0.1871 - val_loss: 0.0597 - val_mean_absolute_error: 0.1890\n",
      "Epoch 6/20\n",
      "500/500 [==============================] - 24s 48ms/step - loss: 0.0586 - mean_absolute_error: 0.1866 - val_loss: 0.0591 - val_mean_absolute_error: 0.1878\n",
      "Epoch 7/20\n",
      "500/500 [==============================] - 24s 47ms/step - loss: 0.0583 - mean_absolute_error: 0.1861 - val_loss: 0.0588 - val_mean_absolute_error: 0.1873\n",
      "Epoch 8/20\n",
      "500/500 [==============================] - 26s 52ms/step - loss: 0.0581 - mean_absolute_error: 0.1857 - val_loss: 0.0587 - val_mean_absolute_error: 0.1869\n",
      "Epoch 9/20\n",
      "500/500 [==============================] - 23s 46ms/step - loss: 0.0579 - mean_absolute_error: 0.1853 - val_loss: 0.0586 - val_mean_absolute_error: 0.1867\n",
      "Epoch 10/20\n",
      "500/500 [==============================] - 23s 46ms/step - loss: 0.0577 - mean_absolute_error: 0.1849 - val_loss: 0.0586 - val_mean_absolute_error: 0.1866\n",
      "Epoch 11/20\n",
      "500/500 [==============================] - 24s 49ms/step - loss: 0.0575 - mean_absolute_error: 0.1843 - val_loss: 0.0586 - val_mean_absolute_error: 0.1863\n",
      "Epoch 12/20\n",
      "500/500 [==============================] - 24s 48ms/step - loss: 0.0573 - mean_absolute_error: 0.1839 - val_loss: 0.0585 - val_mean_absolute_error: 0.1860\n",
      "Epoch 13/20\n",
      "500/500 [==============================] - 24s 48ms/step - loss: 0.0572 - mean_absolute_error: 0.1837 - val_loss: 0.0585 - val_mean_absolute_error: 0.1860\n",
      "Epoch 14/20\n",
      "500/500 [==============================] - 24s 48ms/step - loss: 0.0570 - mean_absolute_error: 0.1834 - val_loss: 0.0585 - val_mean_absolute_error: 0.1860\n",
      "Epoch 15/20\n",
      "500/500 [==============================] - 24s 49ms/step - loss: 0.0569 - mean_absolute_error: 0.1832 - val_loss: 0.0586 - val_mean_absolute_error: 0.1860\n",
      "Epoch 16/20\n",
      "500/500 [==============================] - 24s 49ms/step - loss: 0.0568 - mean_absolute_error: 0.1829 - val_loss: 0.0586 - val_mean_absolute_error: 0.1861\n",
      "Epoch 17/20\n",
      "500/500 [==============================] - 25s 50ms/step - loss: 0.0567 - mean_absolute_error: 0.1828 - val_loss: 0.0587 - val_mean_absolute_error: 0.1863\n",
      "Epoch 18/20\n",
      "500/500 [==============================] - 26s 52ms/step - loss: 0.0566 - mean_absolute_error: 0.1825 - val_loss: 0.0588 - val_mean_absolute_error: 0.1863\n",
      "Epoch 19/20\n",
      "500/500 [==============================] - 25s 50ms/step - loss: 0.0565 - mean_absolute_error: 0.1823 - val_loss: 0.0589 - val_mean_absolute_error: 0.1866\n",
      "Epoch 20/20\n",
      "500/500 [==============================] - 25s 51ms/step - loss: 0.0564 - mean_absolute_error: 0.1823 - val_loss: 0.0589 - val_mean_absolute_error: 0.1867\n"
     ]
    }
   ],
   "source": [
    "model_1 = build_model()\n",
    "\n",
    "history_1 = model_1.fit_generator(iterate_minibatches(emb, emb_size, train_prefixs, train_next_words, batch_size, cycle=True), \n",
    "                    epochs=epochs, steps_per_epoch=steps_per_epoch,\n",
    "                    \n",
    "                    validation_data=iterate_minibatches(emb, emb_size, valid_prefixs, valid_next_words, batch_size, cycle=True),\n",
    "                    validation_steps=len(valid_prefixs) // batch_size\n",
    "                   )"
   ]
  },
  {
   "cell_type": "code",
   "execution_count": 61,
   "metadata": {},
   "outputs": [
    {
     "data": {
      "image/png": "[encoded data removed]",
      "text/plain": [
       "<Figure size 864x360 with 1 Axes>"
      ]
     },
     "metadata": {
      "needs_background": "light"
     },
     "output_type": "display_data"
    }
   ],
   "source": [
    "plt.figure(figsize=(12, 5))\n",
    "plt.plot(history_1.history['loss'], label='train loss')\n",
    "plt.plot(history_1.history['val_loss'], label='validation loss')\n",
    "plt.legend()\n",
    "plt.title('pretrained on wikipedia corpus', fontsize=15)\n",
    "plt.xlabel('epochs', fontsize=15)\n",
    "plt.grid()\n",
    "plt.show()"
   ]
  },
  {
   "cell_type": "code",
   "execution_count": 85,
   "metadata": {},
   "outputs": [
    {
     "data": {
      "text/plain": [
       "(62268, 7878)"
      ]
     },
     "execution_count": 85,
     "metadata": {},
     "output_type": "execute_result"
    }
   ],
   "source": [
    "test_prefixs, test_next_words, test_lost = transform(emb, test)\n",
    "test_prefixs = np.array(test_prefixs)\n",
    "test_next_words = np.array(test_next_words)\n",
    "len(test_prefixs), test_lost"
   ]
  },
  {
   "cell_type": "code",
   "execution_count": 86,
   "metadata": {},
   "outputs": [
    {
     "name": "stdout",
     "output_type": "stream",
     "text": [
      "0.05078125\n",
      "0.060546875\n",
      "0.07421875\n",
      "0.0859375\n",
      "0.09375\n",
      "0.09765625\n",
      "0.09375\n",
      "0.08984375\n",
      "0.0703125\n",
      "0.04281345565749235\n"
     ]
    }
   ],
   "source": [
    "second = draw_dist(emb, model_1, test_prefixs, test_next_words, bound=10)"
   ]
  },
  {
   "cell_type": "code",
   "execution_count": 47,
   "metadata": {
    "scrolled": true
   },
   "outputs": [
    {
     "name": "stdout",
     "output_type": "stream",
     "text": [
      "In progress 1280 / 62268, accuracy = 0.040625\n"
     ]
    },
    {
     "ename": "KeyboardInterrupt",
     "evalue": "",
     "output_type": "error",
     "traceback": [
      "\u001b[0;31m---------------------------------------------------------------------------\u001b[0m",
      "\u001b[0;31mKeyboardInterrupt\u001b[0m                         Traceback (most recent call last)",
      "\u001b[0;32m<ipython-input-47-9ef74f00baa5>\u001b[0m in \u001b[0;36m<module>\u001b[0;34m\u001b[0m\n\u001b[0;32m----> 1\u001b[0;31m \u001b[0mcalculate_accuracy\u001b[0m\u001b[0;34m(\u001b[0m\u001b[0mmodel_1\u001b[0m\u001b[0;34m,\u001b[0m \u001b[0memb\u001b[0m\u001b[0;34m,\u001b[0m \u001b[0memb_size\u001b[0m\u001b[0;34m,\u001b[0m \u001b[0mtest_lost\u001b[0m\u001b[0;34m,\u001b[0m \u001b[0;36m256\u001b[0m\u001b[0;34m,\u001b[0m \u001b[0mtest_prefixs\u001b[0m\u001b[0;34m,\u001b[0m \u001b[0mtest_next_words\u001b[0m\u001b[0;34m)\u001b[0m\u001b[0;34m\u001b[0m\u001b[0;34m\u001b[0m\u001b[0m\n\u001b[0m",
      "\u001b[0;32m~/experiments/utils.py\u001b[0m in \u001b[0;36mcalculate_accuracy\u001b[0;34m(model, emb, emb_size, shift, batch_size, test_prefixs, test_next_words)\u001b[0m\n\u001b[1;32m    114\u001b[0m         \u001b[0mbatch_pred\u001b[0m \u001b[0;34m=\u001b[0m \u001b[0mmodel\u001b[0m\u001b[0;34m.\u001b[0m\u001b[0mpredict\u001b[0m\u001b[0;34m(\u001b[0m\u001b[0mbatch_x\u001b[0m\u001b[0;34m)\u001b[0m\u001b[0;34m\u001b[0m\u001b[0;34m\u001b[0m\u001b[0m\n\u001b[1;32m    115\u001b[0m         \u001b[0;32mfor\u001b[0m \u001b[0mj\u001b[0m\u001b[0;34m,\u001b[0m \u001b[0mk\u001b[0m \u001b[0;32min\u001b[0m \u001b[0menumerate\u001b[0m\u001b[0;34m(\u001b[0m\u001b[0mbatch_pred\u001b[0m\u001b[0;34m)\u001b[0m\u001b[0;34m:\u001b[0m\u001b[0;34m\u001b[0m\u001b[0;34m\u001b[0m\u001b[0m\n\u001b[0;32m--> 116\u001b[0;31m             \u001b[0;32mif\u001b[0m \u001b[0memb\u001b[0m\u001b[0;34m.\u001b[0m\u001b[0mmost_similar\u001b[0m\u001b[0;34m(\u001b[0m\u001b[0;34m[\u001b[0m\u001b[0mk\u001b[0m\u001b[0;34m]\u001b[0m\u001b[0;34m,\u001b[0m \u001b[0mtopn\u001b[0m\u001b[0;34m=\u001b[0m\u001b[0;36m1\u001b[0m\u001b[0;34m)\u001b[0m\u001b[0;34m[\u001b[0m\u001b[0;36m0\u001b[0m\u001b[0;34m]\u001b[0m\u001b[0;34m[\u001b[0m\u001b[0;36m0\u001b[0m\u001b[0;34m]\u001b[0m \u001b[0;34m==\u001b[0m \u001b[0memb\u001b[0m\u001b[0;34m.\u001b[0m\u001b[0mmost_similar\u001b[0m\u001b[0;34m(\u001b[0m\u001b[0;34m[\u001b[0m\u001b[0mbatch_y\u001b[0m\u001b[0;34m[\u001b[0m\u001b[0mj\u001b[0m\u001b[0;34m]\u001b[0m\u001b[0;34m]\u001b[0m\u001b[0;34m,\u001b[0m \u001b[0mtopn\u001b[0m\u001b[0;34m=\u001b[0m\u001b[0;36m1\u001b[0m\u001b[0;34m)\u001b[0m\u001b[0;34m[\u001b[0m\u001b[0;36m0\u001b[0m\u001b[0;34m]\u001b[0m\u001b[0;34m[\u001b[0m\u001b[0;36m0\u001b[0m\u001b[0;34m]\u001b[0m\u001b[0;34m:\u001b[0m\u001b[0;34m\u001b[0m\u001b[0;34m\u001b[0m\u001b[0m\n\u001b[0m\u001b[1;32m    117\u001b[0m                 \u001b[0mall_accr\u001b[0m \u001b[0;34m+=\u001b[0m \u001b[0;36m1\u001b[0m\u001b[0;34m\u001b[0m\u001b[0;34m\u001b[0m\u001b[0m\n\u001b[1;32m    118\u001b[0m             \u001b[0mall_count\u001b[0m \u001b[0;34m+=\u001b[0m \u001b[0;36m1\u001b[0m\u001b[0;34m\u001b[0m\u001b[0;34m\u001b[0m\u001b[0m\n",
      "\u001b[0;32m/usr/local/lib/python3.7/site-packages/gensim/models/keyedvectors.py\u001b[0m in \u001b[0;36mmost_similar\u001b[0;34m(self, positive, negative, topn, restrict_vocab, indexer)\u001b[0m\n\u001b[1;32m    556\u001b[0m         \u001b[0;32mif\u001b[0m \u001b[0mtopn\u001b[0m \u001b[0;32mis\u001b[0m \u001b[0;32mNone\u001b[0m\u001b[0;34m:\u001b[0m\u001b[0;34m\u001b[0m\u001b[0;34m\u001b[0m\u001b[0m\n\u001b[1;32m    557\u001b[0m             \u001b[0;32mreturn\u001b[0m \u001b[0mdists\u001b[0m\u001b[0;34m\u001b[0m\u001b[0;34m\u001b[0m\u001b[0m\n\u001b[0;32m--> 558\u001b[0;31m         \u001b[0mbest\u001b[0m \u001b[0;34m=\u001b[0m \u001b[0mmatutils\u001b[0m\u001b[0;34m.\u001b[0m\u001b[0margsort\u001b[0m\u001b[0;34m(\u001b[0m\u001b[0mdists\u001b[0m\u001b[0;34m,\u001b[0m \u001b[0mtopn\u001b[0m\u001b[0;34m=\u001b[0m\u001b[0mtopn\u001b[0m \u001b[0;34m+\u001b[0m \u001b[0mlen\u001b[0m\u001b[0;34m(\u001b[0m\u001b[0mall_words\u001b[0m\u001b[0;34m)\u001b[0m\u001b[0;34m,\u001b[0m \u001b[0mreverse\u001b[0m\u001b[0;34m=\u001b[0m\u001b[0;32mTrue\u001b[0m\u001b[0;34m)\u001b[0m\u001b[0;34m\u001b[0m\u001b[0;34m\u001b[0m\u001b[0m\n\u001b[0m\u001b[1;32m    559\u001b[0m         \u001b[0;31m# ignore (don't return) words from the input\u001b[0m\u001b[0;34m\u001b[0m\u001b[0;34m\u001b[0m\u001b[0;34m\u001b[0m\u001b[0m\n\u001b[1;32m    560\u001b[0m         \u001b[0mresult\u001b[0m \u001b[0;34m=\u001b[0m \u001b[0;34m[\u001b[0m\u001b[0;34m(\u001b[0m\u001b[0mself\u001b[0m\u001b[0;34m.\u001b[0m\u001b[0mindex2word\u001b[0m\u001b[0;34m[\u001b[0m\u001b[0msim\u001b[0m\u001b[0;34m]\u001b[0m\u001b[0;34m,\u001b[0m \u001b[0mfloat\u001b[0m\u001b[0;34m(\u001b[0m\u001b[0mdists\u001b[0m\u001b[0;34m[\u001b[0m\u001b[0msim\u001b[0m\u001b[0;34m]\u001b[0m\u001b[0;34m)\u001b[0m\u001b[0;34m)\u001b[0m \u001b[0;32mfor\u001b[0m \u001b[0msim\u001b[0m \u001b[0;32min\u001b[0m \u001b[0mbest\u001b[0m \u001b[0;32mif\u001b[0m \u001b[0msim\u001b[0m \u001b[0;32mnot\u001b[0m \u001b[0;32min\u001b[0m \u001b[0mall_words\u001b[0m\u001b[0;34m]\u001b[0m\u001b[0;34m\u001b[0m\u001b[0;34m\u001b[0m\u001b[0m\n",
      "\u001b[0;32m/usr/local/lib/python3.7/site-packages/gensim/matutils.py\u001b[0m in \u001b[0;36margsort\u001b[0;34m(x, topn, reverse)\u001b[0m\n\u001b[1;32m     81\u001b[0m         \u001b[0;32mreturn\u001b[0m \u001b[0mnp\u001b[0m\u001b[0;34m.\u001b[0m\u001b[0margsort\u001b[0m\u001b[0;34m(\u001b[0m\u001b[0mx\u001b[0m\u001b[0;34m)\u001b[0m\u001b[0;34m[\u001b[0m\u001b[0;34m:\u001b[0m\u001b[0mtopn\u001b[0m\u001b[0;34m]\u001b[0m\u001b[0;34m\u001b[0m\u001b[0;34m\u001b[0m\u001b[0m\n\u001b[1;32m     82\u001b[0m     \u001b[0;31m# np >= 1.8 has a fast partial argsort, use that!\u001b[0m\u001b[0;34m\u001b[0m\u001b[0;34m\u001b[0m\u001b[0;34m\u001b[0m\u001b[0m\n\u001b[0;32m---> 83\u001b[0;31m     \u001b[0mmost_extreme\u001b[0m \u001b[0;34m=\u001b[0m \u001b[0mnp\u001b[0m\u001b[0;34m.\u001b[0m\u001b[0margpartition\u001b[0m\u001b[0;34m(\u001b[0m\u001b[0mx\u001b[0m\u001b[0;34m,\u001b[0m \u001b[0mtopn\u001b[0m\u001b[0;34m)\u001b[0m\u001b[0;34m[\u001b[0m\u001b[0;34m:\u001b[0m\u001b[0mtopn\u001b[0m\u001b[0;34m]\u001b[0m\u001b[0;34m\u001b[0m\u001b[0;34m\u001b[0m\u001b[0m\n\u001b[0m\u001b[1;32m     84\u001b[0m     \u001b[0;32mreturn\u001b[0m \u001b[0mmost_extreme\u001b[0m\u001b[0;34m.\u001b[0m\u001b[0mtake\u001b[0m\u001b[0;34m(\u001b[0m\u001b[0mnp\u001b[0m\u001b[0;34m.\u001b[0m\u001b[0margsort\u001b[0m\u001b[0;34m(\u001b[0m\u001b[0mx\u001b[0m\u001b[0;34m.\u001b[0m\u001b[0mtake\u001b[0m\u001b[0;34m(\u001b[0m\u001b[0mmost_extreme\u001b[0m\u001b[0;34m)\u001b[0m\u001b[0;34m)\u001b[0m\u001b[0;34m)\u001b[0m  \u001b[0;31m# resort topn into order\u001b[0m\u001b[0;34m\u001b[0m\u001b[0;34m\u001b[0m\u001b[0m\n\u001b[1;32m     85\u001b[0m \u001b[0;34m\u001b[0m\u001b[0m\n",
      "\u001b[0;32m/usr/local/lib/python3.7/site-packages/numpy/core/fromnumeric.py\u001b[0m in \u001b[0;36margpartition\u001b[0;34m(a, kth, axis, kind, order)\u001b[0m\n\u001b[1;32m    806\u001b[0m \u001b[0;34m\u001b[0m\u001b[0m\n\u001b[1;32m    807\u001b[0m     \"\"\"\n\u001b[0;32m--> 808\u001b[0;31m     \u001b[0;32mreturn\u001b[0m \u001b[0m_wrapfunc\u001b[0m\u001b[0;34m(\u001b[0m\u001b[0ma\u001b[0m\u001b[0;34m,\u001b[0m \u001b[0;34m'argpartition'\u001b[0m\u001b[0;34m,\u001b[0m \u001b[0mkth\u001b[0m\u001b[0;34m,\u001b[0m \u001b[0maxis\u001b[0m\u001b[0;34m=\u001b[0m\u001b[0maxis\u001b[0m\u001b[0;34m,\u001b[0m \u001b[0mkind\u001b[0m\u001b[0;34m=\u001b[0m\u001b[0mkind\u001b[0m\u001b[0;34m,\u001b[0m \u001b[0morder\u001b[0m\u001b[0;34m=\u001b[0m\u001b[0morder\u001b[0m\u001b[0;34m)\u001b[0m\u001b[0;34m\u001b[0m\u001b[0;34m\u001b[0m\u001b[0m\n\u001b[0m\u001b[1;32m    809\u001b[0m \u001b[0;34m\u001b[0m\u001b[0m\n\u001b[1;32m    810\u001b[0m \u001b[0;34m\u001b[0m\u001b[0m\n",
      "\u001b[0;32m/usr/local/lib/python3.7/site-packages/numpy/core/fromnumeric.py\u001b[0m in \u001b[0;36m_wrapfunc\u001b[0;34m(obj, method, *args, **kwds)\u001b[0m\n\u001b[1;32m     54\u001b[0m \u001b[0;32mdef\u001b[0m \u001b[0m_wrapfunc\u001b[0m\u001b[0;34m(\u001b[0m\u001b[0mobj\u001b[0m\u001b[0;34m,\u001b[0m \u001b[0mmethod\u001b[0m\u001b[0;34m,\u001b[0m \u001b[0;34m*\u001b[0m\u001b[0margs\u001b[0m\u001b[0;34m,\u001b[0m \u001b[0;34m**\u001b[0m\u001b[0mkwds\u001b[0m\u001b[0;34m)\u001b[0m\u001b[0;34m:\u001b[0m\u001b[0;34m\u001b[0m\u001b[0;34m\u001b[0m\u001b[0m\n\u001b[1;32m     55\u001b[0m     \u001b[0;32mtry\u001b[0m\u001b[0;34m:\u001b[0m\u001b[0;34m\u001b[0m\u001b[0;34m\u001b[0m\u001b[0m\n\u001b[0;32m---> 56\u001b[0;31m         \u001b[0;32mreturn\u001b[0m \u001b[0mgetattr\u001b[0m\u001b[0;34m(\u001b[0m\u001b[0mobj\u001b[0m\u001b[0;34m,\u001b[0m \u001b[0mmethod\u001b[0m\u001b[0;34m)\u001b[0m\u001b[0;34m(\u001b[0m\u001b[0;34m*\u001b[0m\u001b[0margs\u001b[0m\u001b[0;34m,\u001b[0m \u001b[0;34m**\u001b[0m\u001b[0mkwds\u001b[0m\u001b[0;34m)\u001b[0m\u001b[0;34m\u001b[0m\u001b[0;34m\u001b[0m\u001b[0m\n\u001b[0m\u001b[1;32m     57\u001b[0m \u001b[0;34m\u001b[0m\u001b[0m\n\u001b[1;32m     58\u001b[0m     \u001b[0;31m# An AttributeError occurs if the object does not have\u001b[0m\u001b[0;34m\u001b[0m\u001b[0;34m\u001b[0m\u001b[0;34m\u001b[0m\u001b[0m\n",
      "\u001b[0;31mKeyboardInterrupt\u001b[0m: "
     ]
    }
   ],
   "source": [
    "calculate_accuracy(model_1, emb, emb_size, test_lost, 256, test_prefixs, test_next_words)"
   ]
  },
  {
   "cell_type": "code",
   "execution_count": 51,
   "metadata": {},
   "outputs": [
    {
     "data": {
      "text/plain": [
       "(129582, 32679, 7515, 1818)"
      ]
     },
     "execution_count": 51,
     "metadata": {},
     "output_type": "execute_result"
    }
   ],
   "source": [
    "train_prefixs, train_next_words, train_lost = transform(emb_2, train_part)\n",
    "valid_prefixs, valid_next_words, val_lost = transform(emb_2, valid_part)\n",
    "\n",
    "train_prefixs = np.array(train_prefixs)\n",
    "train_next_words = np.array(train_next_words)\n",
    "valid_prefixs = np.array(valid_prefixs)\n",
    "valid_next_words = np.array(valid_next_words)\n",
    "len(train_prefixs), len(valid_prefixs), train_lost, val_lost"
   ]
  },
  {
   "cell_type": "code",
   "execution_count": 52,
   "metadata": {
    "scrolled": true
   },
   "outputs": [
    {
     "name": "stdout",
     "output_type": "stream",
     "text": [
      "Epoch 1/20\n",
      "500/500 [==============================] - 38s 75ms/step - loss: 0.0506 - mean_absolute_error: 0.1750 - val_loss: 0.0501 - val_mean_absolute_error: 0.1736\n",
      "Epoch 2/20\n",
      "500/500 [==============================] - 27s 54ms/step - loss: 0.0488 - mean_absolute_error: 0.1713 - val_loss: 0.0490 - val_mean_absolute_error: 0.1713\n",
      "Epoch 3/20\n",
      "500/500 [==============================] - 23s 47ms/step - loss: 0.0482 - mean_absolute_error: 0.1700 - val_loss: 0.0485 - val_mean_absolute_error: 0.1704\n",
      "Epoch 4/20\n",
      "500/500 [==============================] - 32s 65ms/step - loss: 0.0479 - mean_absolute_error: 0.1692 - val_loss: 0.0483 - val_mean_absolute_error: 0.1698\n",
      "Epoch 5/20\n",
      "500/500 [==============================] - 33s 66ms/step - loss: 0.0476 - mean_absolute_error: 0.1685 - val_loss: 0.0480 - val_mean_absolute_error: 0.1693\n",
      "Epoch 6/20\n",
      "500/500 [==============================] - 33s 65ms/step - loss: 0.0474 - mean_absolute_error: 0.1680 - val_loss: 0.0479 - val_mean_absolute_error: 0.1689\n",
      "Epoch 7/20\n",
      "500/500 [==============================] - 27s 54ms/step - loss: 0.0472 - mean_absolute_error: 0.1676 - val_loss: 0.0478 - val_mean_absolute_error: 0.1686\n",
      "Epoch 8/20\n",
      "500/500 [==============================] - 23s 46ms/step - loss: 0.0470 - mean_absolute_error: 0.1672 - val_loss: 0.0477 - val_mean_absolute_error: 0.1683\n",
      "Epoch 9/20\n",
      "500/500 [==============================] - 24s 48ms/step - loss: 0.0469 - mean_absolute_error: 0.1669 - val_loss: 0.0477 - val_mean_absolute_error: 0.1683\n",
      "Epoch 10/20\n",
      "500/500 [==============================] - 23s 47ms/step - loss: 0.0468 - mean_absolute_error: 0.1666 - val_loss: 0.0476 - val_mean_absolute_error: 0.1681\n",
      "Epoch 11/20\n",
      "500/500 [==============================] - 23s 47ms/step - loss: 0.0466 - mean_absolute_error: 0.1663 - val_loss: 0.0476 - val_mean_absolute_error: 0.1680\n",
      "Epoch 12/20\n",
      "500/500 [==============================] - 24s 49ms/step - loss: 0.0466 - mean_absolute_error: 0.1662 - val_loss: 0.0476 - val_mean_absolute_error: 0.1680\n",
      "Epoch 13/20\n",
      "500/500 [==============================] - 24s 47ms/step - loss: 0.0465 - mean_absolute_error: 0.1659 - val_loss: 0.0475 - val_mean_absolute_error: 0.1679\n",
      "Epoch 14/20\n",
      "500/500 [==============================] - 24s 48ms/step - loss: 0.0464 - mean_absolute_error: 0.1658 - val_loss: 0.0474 - val_mean_absolute_error: 0.1677\n",
      "Epoch 15/20\n",
      "500/500 [==============================] - 24s 48ms/step - loss: 0.0463 - mean_absolute_error: 0.1655 - val_loss: 0.0475 - val_mean_absolute_error: 0.1677\n",
      "Epoch 16/20\n",
      "500/500 [==============================] - 24s 48ms/step - loss: 0.0462 - mean_absolute_error: 0.1654 - val_loss: 0.0474 - val_mean_absolute_error: 0.1676\n",
      "Epoch 17/20\n",
      "500/500 [==============================] - 25s 50ms/step - loss: 0.0462 - mean_absolute_error: 0.1652 - val_loss: 0.0474 - val_mean_absolute_error: 0.1676\n",
      "Epoch 18/20\n",
      "500/500 [==============================] - 24s 47ms/step - loss: 0.0461 - mean_absolute_error: 0.1651 - val_loss: 0.0475 - val_mean_absolute_error: 0.1677\n",
      "Epoch 19/20\n",
      "500/500 [==============================] - 24s 48ms/step - loss: 0.0460 - mean_absolute_error: 0.1649 - val_loss: 0.0475 - val_mean_absolute_error: 0.1677\n",
      "Epoch 20/20\n",
      "500/500 [==============================] - 24s 48ms/step - loss: 0.0460 - mean_absolute_error: 0.1649 - val_loss: 0.0474 - val_mean_absolute_error: 0.1675\n"
     ]
    }
   ],
   "source": [
    "model_2 = build_model()\n",
    "\n",
    "history_2 = model_2.fit_generator(iterate_minibatches(emb_2, emb_size, train_prefixs, train_next_words, batch_size, cycle=True), \n",
    "                    epochs=epochs, steps_per_epoch=steps_per_epoch,\n",
    "                    \n",
    "                    validation_data=iterate_minibatches(emb_2, emb_size, valid_prefixs, valid_next_words, batch_size, cycle=True),\n",
    "                    validation_steps=len(valid_prefixs) // batch_size\n",
    "                   )"
   ]
  },
  {
   "cell_type": "code",
   "execution_count": 62,
   "metadata": {},
   "outputs": [
    {
     "data": {
      "image/png": "[encoded data removed]",
      "text/plain": [
       "<Figure size 864x360 with 1 Axes>"
      ]
     },
     "metadata": {
      "needs_background": "light"
     },
     "output_type": "display_data"
    }
   ],
   "source": [
    "plt.figure(figsize=(12, 5))\n",
    "plt.plot(history_2.history['loss'], label='train loss')\n",
    "plt.plot(history_2.history['val_loss'], label='validation loss')\n",
    "plt.legend()\n",
    "plt.title('pretrained on wikipedia corpus + lenta.ru', fontsize=15)\n",
    "plt.xlabel('epochs', fontsize=15)\n",
    "plt.grid()\n",
    "plt.show()"
   ]
  },
  {
   "cell_type": "code",
   "execution_count": 87,
   "metadata": {},
   "outputs": [
    {
     "data": {
      "text/plain": [
       "(66351, 3795)"
      ]
     },
     "execution_count": 87,
     "metadata": {},
     "output_type": "execute_result"
    }
   ],
   "source": [
    "test_prefixs, test_next_words, test_lost = transform(emb_2, test)\n",
    "test_prefixs = np.array(test_prefixs)\n",
    "test_next_words = np.array(test_next_words)\n",
    "len(test_prefixs), test_lost"
   ]
  },
  {
   "cell_type": "code",
   "execution_count": 88,
   "metadata": {},
   "outputs": [
    {
     "name": "stdout",
     "output_type": "stream",
     "text": [
      "0.02734375\n",
      "0.046875\n",
      "0.07421875\n",
      "0.06640625\n",
      "0.08203125\n",
      "0.09765625\n",
      "0.08984375\n",
      "0.064453125\n",
      "0.0625\n",
      "0.046703296703296704\n"
     ]
    }
   ],
   "source": [
    "third = draw_dist(emb_2, model_2, test_prefixs, test_next_words, bound=10)"
   ]
  },
  {
   "cell_type": "code",
   "execution_count": 55,
   "metadata": {
    "scrolled": true
   },
   "outputs": [
    {
     "name": "stdout",
     "output_type": "stream",
     "text": [
      "In progress 1536 / 66351, accuracy = 0.029947916666666668\n"
     ]
    },
    {
     "ename": "KeyboardInterrupt",
     "evalue": "",
     "output_type": "error",
     "traceback": [
      "\u001b[0;31m---------------------------------------------------------------------------\u001b[0m",
      "\u001b[0;31mKeyboardInterrupt\u001b[0m                         Traceback (most recent call last)",
      "\u001b[0;32m<ipython-input-55-897128bdd6f6>\u001b[0m in \u001b[0;36m<module>\u001b[0;34m\u001b[0m\n\u001b[0;32m----> 1\u001b[0;31m \u001b[0mcalculate_accuracy\u001b[0m\u001b[0;34m(\u001b[0m\u001b[0mmodel_2\u001b[0m\u001b[0;34m,\u001b[0m \u001b[0memb_2\u001b[0m\u001b[0;34m,\u001b[0m \u001b[0memb_size\u001b[0m\u001b[0;34m,\u001b[0m \u001b[0mtest_lost\u001b[0m\u001b[0;34m,\u001b[0m \u001b[0;36m256\u001b[0m\u001b[0;34m,\u001b[0m \u001b[0mtest_prefixs\u001b[0m\u001b[0;34m,\u001b[0m \u001b[0mtest_next_words\u001b[0m\u001b[0;34m)\u001b[0m\u001b[0;34m\u001b[0m\u001b[0;34m\u001b[0m\u001b[0m\n\u001b[0m",
      "\u001b[0;32m~/experiments/utils.py\u001b[0m in \u001b[0;36mcalculate_accuracy\u001b[0;34m(model, emb, emb_size, shift, batch_size, test_prefixs, test_next_words)\u001b[0m\n\u001b[1;32m    114\u001b[0m         \u001b[0mbatch_pred\u001b[0m \u001b[0;34m=\u001b[0m \u001b[0mmodel\u001b[0m\u001b[0;34m.\u001b[0m\u001b[0mpredict\u001b[0m\u001b[0;34m(\u001b[0m\u001b[0mbatch_x\u001b[0m\u001b[0;34m)\u001b[0m\u001b[0;34m\u001b[0m\u001b[0;34m\u001b[0m\u001b[0m\n\u001b[1;32m    115\u001b[0m         \u001b[0;32mfor\u001b[0m \u001b[0mj\u001b[0m\u001b[0;34m,\u001b[0m \u001b[0mk\u001b[0m \u001b[0;32min\u001b[0m \u001b[0menumerate\u001b[0m\u001b[0;34m(\u001b[0m\u001b[0mbatch_pred\u001b[0m\u001b[0;34m)\u001b[0m\u001b[0;34m:\u001b[0m\u001b[0;34m\u001b[0m\u001b[0;34m\u001b[0m\u001b[0m\n\u001b[0;32m--> 116\u001b[0;31m             \u001b[0;32mif\u001b[0m \u001b[0memb\u001b[0m\u001b[0;34m.\u001b[0m\u001b[0mmost_similar\u001b[0m\u001b[0;34m(\u001b[0m\u001b[0;34m[\u001b[0m\u001b[0mk\u001b[0m\u001b[0;34m]\u001b[0m\u001b[0;34m,\u001b[0m \u001b[0mtopn\u001b[0m\u001b[0;34m=\u001b[0m\u001b[0;36m1\u001b[0m\u001b[0;34m)\u001b[0m\u001b[0;34m[\u001b[0m\u001b[0;36m0\u001b[0m\u001b[0;34m]\u001b[0m\u001b[0;34m[\u001b[0m\u001b[0;36m0\u001b[0m\u001b[0;34m]\u001b[0m \u001b[0;34m==\u001b[0m \u001b[0memb\u001b[0m\u001b[0;34m.\u001b[0m\u001b[0mmost_similar\u001b[0m\u001b[0;34m(\u001b[0m\u001b[0;34m[\u001b[0m\u001b[0mbatch_y\u001b[0m\u001b[0;34m[\u001b[0m\u001b[0mj\u001b[0m\u001b[0;34m]\u001b[0m\u001b[0;34m]\u001b[0m\u001b[0;34m,\u001b[0m \u001b[0mtopn\u001b[0m\u001b[0;34m=\u001b[0m\u001b[0;36m1\u001b[0m\u001b[0;34m)\u001b[0m\u001b[0;34m[\u001b[0m\u001b[0;36m0\u001b[0m\u001b[0;34m]\u001b[0m\u001b[0;34m[\u001b[0m\u001b[0;36m0\u001b[0m\u001b[0;34m]\u001b[0m\u001b[0;34m:\u001b[0m\u001b[0;34m\u001b[0m\u001b[0;34m\u001b[0m\u001b[0m\n\u001b[0m\u001b[1;32m    117\u001b[0m                 \u001b[0mall_accr\u001b[0m \u001b[0;34m+=\u001b[0m \u001b[0;36m1\u001b[0m\u001b[0;34m\u001b[0m\u001b[0;34m\u001b[0m\u001b[0m\n\u001b[1;32m    118\u001b[0m             \u001b[0mall_count\u001b[0m \u001b[0;34m+=\u001b[0m \u001b[0;36m1\u001b[0m\u001b[0;34m\u001b[0m\u001b[0;34m\u001b[0m\u001b[0m\n",
      "\u001b[0;32m/usr/local/lib/python3.7/site-packages/gensim/models/keyedvectors.py\u001b[0m in \u001b[0;36mmost_similar\u001b[0;34m(self, positive, negative, topn, restrict_vocab, indexer)\u001b[0m\n\u001b[1;32m    553\u001b[0m \u001b[0;34m\u001b[0m\u001b[0m\n\u001b[1;32m    554\u001b[0m         \u001b[0mlimited\u001b[0m \u001b[0;34m=\u001b[0m \u001b[0mself\u001b[0m\u001b[0;34m.\u001b[0m\u001b[0mvectors_norm\u001b[0m \u001b[0;32mif\u001b[0m \u001b[0mrestrict_vocab\u001b[0m \u001b[0;32mis\u001b[0m \u001b[0;32mNone\u001b[0m \u001b[0;32melse\u001b[0m \u001b[0mself\u001b[0m\u001b[0;34m.\u001b[0m\u001b[0mvectors_norm\u001b[0m\u001b[0;34m[\u001b[0m\u001b[0;34m:\u001b[0m\u001b[0mrestrict_vocab\u001b[0m\u001b[0;34m]\u001b[0m\u001b[0;34m\u001b[0m\u001b[0;34m\u001b[0m\u001b[0m\n\u001b[0;32m--> 555\u001b[0;31m         \u001b[0mdists\u001b[0m \u001b[0;34m=\u001b[0m \u001b[0mdot\u001b[0m\u001b[0;34m(\u001b[0m\u001b[0mlimited\u001b[0m\u001b[0;34m,\u001b[0m \u001b[0mmean\u001b[0m\u001b[0;34m)\u001b[0m\u001b[0;34m\u001b[0m\u001b[0;34m\u001b[0m\u001b[0m\n\u001b[0m\u001b[1;32m    556\u001b[0m         \u001b[0;32mif\u001b[0m \u001b[0mtopn\u001b[0m \u001b[0;32mis\u001b[0m \u001b[0;32mNone\u001b[0m\u001b[0;34m:\u001b[0m\u001b[0;34m\u001b[0m\u001b[0;34m\u001b[0m\u001b[0m\n\u001b[1;32m    557\u001b[0m             \u001b[0;32mreturn\u001b[0m \u001b[0mdists\u001b[0m\u001b[0;34m\u001b[0m\u001b[0;34m\u001b[0m\u001b[0m\n",
      "\u001b[0;31mKeyboardInterrupt\u001b[0m: "
     ]
    }
   ],
   "source": [
    "calculate_accuracy(model_2, emb_2, emb_size, test_lost, 256, test_prefixs, test_next_words)"
   ]
  },
  {
   "cell_type": "code",
   "execution_count": 98,
   "metadata": {},
   "outputs": [
    {
     "data": {
      "image/png": "[encoded data removed]",
      "text/plain": [
       "<Figure size 864x504 with 1 Axes>"
      ]
     },
     "metadata": {
      "needs_background": "light"
     },
     "output_type": "display_data"
    }
   ],
   "source": [
    "plt.figure(figsize=(12, 7))\n",
    "bound = 7\n",
    "grid = np.arange(1, bound+1, 1)\n",
    "\n",
    "plt.plot(grid, 100 * np.array(first)[:len(grid)], label='pretrained on news and twitter')\n",
    "plt.plot(grid, 100 * np.array(second)[:len(grid)] , label='pretrained on wikipedia')\n",
    "plt.plot(grid, 100 * np.array(third)[:len(grid)], label='pretrained on wikipedia and lenta.ru')\n",
    "plt.xlabel('Length of request', fontsize=15)\n",
    "plt.ylabel('Precision (in percent)', fontsize=15)\n",
    "plt.grid()\n",
    "plt.legend()\n",
    "plt.show()"
   ]
  },
  {
   "cell_type": "code",
   "execution_count": null,
   "metadata": {},
   "outputs": [],
   "source": []
  }
 ],
 "metadata": {
  "kernelspec": {
   "display_name": "Python 3",
   "language": "python",
   "name": "python3"
  },
  "language_info": {
   "codemirror_mode": {
    "name": "ipython",
    "version": 3
   },
   "file_extension": ".py",
   "mimetype": "text/x-python",
   "name": "python",
   "nbconvert_exporter": "python",
   "pygments_lexer": "ipython3",
   "version": "3.7.1"
  }
 },
 "nbformat": 4,
 "nbformat_minor": 2
}
