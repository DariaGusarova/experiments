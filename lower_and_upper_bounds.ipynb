{
 "cells": [
  {
   "cell_type": "code",
   "execution_count": 1,
   "metadata": {},
   "outputs": [],
   "source": [
    "import numpy as np\n",
    "import matplotlib.pyplot as plt\n",
    "import pandas as pd\n",
    "from nltk.tokenize import WordPunctTokenizer\n",
    "import gensim\n",
    "from gensim.models import KeyedVectors\n",
    "from IPython.display import clear_output\n",
    "from collections import Counter\n",
    "from tqdm import tqdm\n",
    "import seaborn as sns\n",
    "\n",
    "%matplotlib inline"
   ]
  },
  {
   "cell_type": "code",
   "execution_count": 2,
   "metadata": {},
   "outputs": [],
   "source": [
    "from pymystem3 import Mystem\n",
    "from string import punctuation"
   ]
  },
  {
   "cell_type": "code",
   "execution_count": 3,
   "metadata": {},
   "outputs": [],
   "source": [
    "def read_queries(path):\n",
    "    f = open(path)\n",
    "    queries = []\n",
    "    tokenizer = WordPunctTokenizer()\n",
    "    \n",
    "    for line in f:\n",
    "        tmp = []\n",
    "        for q in tokenizer.tokenize(line.lower()):\n",
    "            if not np.all(np.any(np.array(list(q)).reshape(-1, 1) == np.array(list(punctuation)).reshape(1, -1), axis=1)):\n",
    "                tmp.append(q)\n",
    "        queries.append(tmp)\n",
    "    f.close()\n",
    "    return queries\n",
    "\n",
    "def read_queries_with_lemmatization(path):\n",
    "    f = open(path)\n",
    "    queries = []\n",
    "    mystem = Mystem()\n",
    "    tokenizer = WordPunctTokenizer()\n",
    "    \n",
    "    for line in f:\n",
    "        tmp = []\n",
    "        for q in tokenizer.tokenize(line.lower()):\n",
    "            if not np.all(np.any(np.array(list(q)).reshape(-1, 1) == np.array(list(punctuation)).reshape(1, -1), axis=1)):\n",
    "                q_ = mystem.lemmatize(q)\n",
    "                tmp.append(\"\".join(q_).split()[0])\n",
    "        queries.append(tmp)\n",
    "    f.close()\n",
    "    return queries"
   ]
  },
  {
   "cell_type": "code",
   "execution_count": 4,
   "metadata": {},
   "outputs": [
    {
     "data": {
      "text/plain": [
       "([['сибирские', 'сети', 'личный', 'кабинет', 'бердск'],\n",
       "  ['1', 'сантим', 'алжир', '1964'],\n",
       "  ['река', 'колыма', 'на', 'карте', 'россии'],\n",
       "  ['ноофен', 'для', 'каких', 'болезней'],\n",
       "  ['маус', 'хаус', 'спб']],\n",
       " [['сибирский', 'сеть', 'личный', 'кабинет', 'бердск'],\n",
       "  ['1', 'сантим', 'алжир', '1964'],\n",
       "  ['река', 'колыма', 'на', 'карта', 'россия'],\n",
       "  ['ноофен', 'для', 'какой', 'болезнь'],\n",
       "  ['маус', 'хаус', 'спб']],\n",
       " [['сбербанк', 'в', 'кунцево', 'плаза'],\n",
       "  ['торт', 'дикая', 'вишня'],\n",
       "  ['тася', 'кривун', 'танцы', 'на', 'тнт'],\n",
       "  ['рбт', 'ру'],\n",
       "  ['toplü', 'vay', 'sexx']],\n",
       " [['сбербанк', 'в', 'кунцево', 'плаза'],\n",
       "  ['торт', 'дикий', 'вишня'],\n",
       "  ['тася', 'кривун', 'танец', 'на', 'тнт'],\n",
       "  ['рбт', 'ру'],\n",
       "  ['toplü', 'vay', 'sexx']],\n",
       " 51353,\n",
       " 21174)"
      ]
     },
     "execution_count": 4,
     "metadata": {},
     "output_type": "execute_result"
    }
   ],
   "source": [
    "path = 'data/requests.uniq.train'\n",
    "train = read_queries(path)\n",
    "train_lem = read_queries_with_lemmatization(path)\n",
    "path = 'data/requests.uniq.test'\n",
    "test = read_queries(path)\n",
    "test_lem = read_queries_with_lemmatization(path)\n",
    "train[:5], train_lem[:5], test[:5], test_lem[:5], len(train), len(test)"
   ]
  },
  {
   "cell_type": "markdown",
   "metadata": {},
   "source": [
    "### Оценим максимальную точность, которой мы можем достичь"
   ]
  },
  {
   "cell_type": "code",
   "execution_count": 7,
   "metadata": {},
   "outputs": [],
   "source": [
    "from tqdm import tqdm_notebook"
   ]
  },
  {
   "cell_type": "code",
   "execution_count": 20,
   "metadata": {},
   "outputs": [],
   "source": [
    "def calculateUpperBound(data):\n",
    "    cnt = dict()\n",
    "    \n",
    "    for line in tqdm_notebook(data):\n",
    "        prefix = \"#_#\"\n",
    "        for word in line:\n",
    "            if prefix not in cnt.keys():\n",
    "                cnt[prefix] = Counter()\n",
    "            cnt[prefix][word] += 1\n",
    "            prefix += word + \"#_#\"\n",
    "    \n",
    "    max_len = np.max(list(map(len, data)))\n",
    "    accrs = np.zeros((max_len, 2))\n",
    "    \n",
    "    for line in tqdm_notebook(data):\n",
    "        prefix = '#_#'\n",
    "        for i, word in enumerate(line):\n",
    "            pred = cnt[prefix].most_common(1)[0][0]\n",
    "            accrs[i, 1] += 1\n",
    "            if pred == word:\n",
    "                accrs[i, 0] += 1\n",
    "            prefix += word + \"#_#\"\n",
    "    return accrs[:, 0] / accrs[:, 1]"
   ]
  },
  {
   "cell_type": "code",
   "execution_count": 34,
   "metadata": {
    "scrolled": true
   },
   "outputs": [
    {
     "data": {
      "application/vnd.jupyter.widget-view+json": {
       "model_id": "e190a7d4b42a4087bf41298552d00343",
       "version_major": 2,
       "version_minor": 0
      },
      "text/plain": [
       "HBox(children=(IntProgress(value=0, max=21174), HTML(value='')))"
      ]
     },
     "metadata": {},
     "output_type": "display_data"
    },
    {
     "data": {
      "application/vnd.jupyter.widget-view+json": {
       "model_id": "e7695c0cfb5a43189b6b251432df8c50",
       "version_major": 2,
       "version_minor": 0
      },
      "text/plain": [
       "HBox(children=(IntProgress(value=0, max=21174), HTML(value='')))"
      ]
     },
     "metadata": {},
     "output_type": "display_data"
    },
    {
     "data": {
      "text/plain": [
       "array([  2.91422634,  61.12688914,  88.6279282 ,  97.17942447,\n",
       "        98.74418605,  99.329806  ,  99.59804766,  99.76624591,\n",
       "        99.9201278 , 100.        ,  99.756691  , 100.        ,\n",
       "       100.        , 100.        , 100.        , 100.        ,\n",
       "       100.        , 100.        , 100.        , 100.        ,\n",
       "       100.        , 100.        , 100.        , 100.        ,\n",
       "       100.        , 100.        , 100.        , 100.        ,\n",
       "       100.        , 100.        , 100.        , 100.        ,\n",
       "       100.        , 100.        , 100.        , 100.        ,\n",
       "       100.        , 100.        , 100.        , 100.        ,\n",
       "       100.        , 100.        , 100.        , 100.        ,\n",
       "       100.        , 100.        , 100.        , 100.        ,\n",
       "       100.        , 100.        , 100.        , 100.        ,\n",
       "       100.        , 100.        , 100.        , 100.        ,\n",
       "       100.        , 100.        , 100.        , 100.        ,\n",
       "       100.        , 100.        , 100.        , 100.        ,\n",
       "       100.        , 100.        ])"
      ]
     },
     "execution_count": 34,
     "metadata": {},
     "output_type": "execute_result"
    }
   ],
   "source": [
    "tmp = calculateUpperBound(test)\n",
    "tmp * 100"
   ]
  },
  {
   "cell_type": "code",
   "execution_count": 35,
   "metadata": {
    "scrolled": true
   },
   "outputs": [
    {
     "data": {
      "application/vnd.jupyter.widget-view+json": {
       "model_id": "f8452b7fe4a94f8a85be72a8c5308396",
       "version_major": 2,
       "version_minor": 0
      },
      "text/plain": [
       "HBox(children=(IntProgress(value=0, max=21174), HTML(value='')))"
      ]
     },
     "metadata": {},
     "output_type": "display_data"
    },
    {
     "data": {
      "application/vnd.jupyter.widget-view+json": {
       "model_id": "86ef46bd5def4bbaa2b106f3b5078ccb",
       "version_major": 2,
       "version_minor": 0
      },
      "text/plain": [
       "HBox(children=(IntProgress(value=0, max=21174), HTML(value='')))"
      ]
     },
     "metadata": {},
     "output_type": "display_data"
    },
    {
     "data": {
      "text/plain": [
       "array([  2.91422634,  57.06968252,  87.5570429 ,  96.98377761,\n",
       "        98.60465116,  99.31216931,  99.5406259 ,  99.71949509,\n",
       "        99.9201278 , 100.        ,  99.756691  , 100.        ,\n",
       "       100.        , 100.        , 100.        , 100.        ,\n",
       "       100.        , 100.        , 100.        , 100.        ,\n",
       "       100.        , 100.        , 100.        , 100.        ,\n",
       "       100.        , 100.        , 100.        , 100.        ,\n",
       "       100.        , 100.        , 100.        , 100.        ,\n",
       "       100.        , 100.        , 100.        , 100.        ,\n",
       "       100.        , 100.        , 100.        , 100.        ,\n",
       "       100.        , 100.        , 100.        , 100.        ,\n",
       "       100.        , 100.        , 100.        , 100.        ,\n",
       "       100.        , 100.        , 100.        , 100.        ,\n",
       "       100.        , 100.        , 100.        , 100.        ,\n",
       "       100.        , 100.        , 100.        , 100.        ,\n",
       "       100.        , 100.        , 100.        , 100.        ,\n",
       "       100.        , 100.        ])"
      ]
     },
     "execution_count": 35,
     "metadata": {},
     "output_type": "execute_result"
    }
   ],
   "source": [
    "tmp_lem = calculateUpperBound(test_lem)\n",
    "tmp_lem * 100"
   ]
  },
  {
   "cell_type": "code",
   "execution_count": 25,
   "metadata": {},
   "outputs": [
    {
     "data": {
      "text/plain": [
       "(array([ 1,  2,  3,  4,  5,  6,  7,  8,  9, 10]),\n",
       " array([0.12185658, 0.16966756, 0.20326518, 0.23018925, 0.2515358 ,\n",
       "        0.27062838, 0.28792218, 0.30358516, 0.31885922, 0.32964299]))"
      ]
     },
     "execution_count": 25,
     "metadata": {},
     "output_type": "execute_result"
    }
   ],
   "source": [
    "count_words = Counter()\n",
    "\n",
    "for d in [train_lem]:\n",
    "    for q in d:\n",
    "        for word in q:\n",
    "            count_words[word] += 1\n",
    "        \n",
    "freq, counts = np.unique(np.array(list(count_words.values())), return_counts=True) \n",
    "p = counts * freq \n",
    "p = p / p.sum()\n",
    "p = np.cumsum(p)\n",
    "freq[:10], p[:10]"
   ]
  },
  {
   "cell_type": "code",
   "execution_count": 32,
   "metadata": {},
   "outputs": [],
   "source": [
    "def calculateUpperBoundWithPadding(data, bound=3):\n",
    "    cnt = dict()\n",
    "    \n",
    "    for line in tqdm_notebook(data):\n",
    "        prefix = \"#_#\"\n",
    "        for word in line:\n",
    "            if prefix not in cnt.keys() and count_words[word] >= 3:\n",
    "                cnt[prefix] = Counter()\n",
    "            if count_words[word] >= 3:\n",
    "                cnt[prefix][word] += 1\n",
    "                prefix += word + \"#_#\"\n",
    "            else:\n",
    "                prefix += \"#PAD#\" + \"#_#\" \n",
    "    \n",
    "    max_len = np.max(list(map(len, data)))\n",
    "    accrs = np.zeros((max_len, 2))\n",
    "    \n",
    "    for line in tqdm_notebook(data):\n",
    "        prefix = '#_#'\n",
    "        for i, word in enumerate(line):\n",
    "            if prefix in cnt:\n",
    "                pred = cnt[prefix].most_common(1)[0][0]\n",
    "                if pred == word:\n",
    "                    accrs[i, 0] += 1\n",
    "            accrs[i, 1] += 1   \n",
    "            if count_words[word] >= 3:\n",
    "                prefix += word + \"#_#\"\n",
    "            else:\n",
    "                prefix += \"#PAD#\" + \"#_#\" \n",
    "    return accrs[:, 0] / accrs[:, 1]"
   ]
  },
  {
   "cell_type": "code",
   "execution_count": 36,
   "metadata": {
    "scrolled": true
   },
   "outputs": [
    {
     "data": {
      "application/vnd.jupyter.widget-view+json": {
       "model_id": "5317d355a24c4baa96906ab09b591944",
       "version_major": 2,
       "version_minor": 0
      },
      "text/plain": [
       "HBox(children=(IntProgress(value=0, max=21174), HTML(value='')))"
      ]
     },
     "metadata": {},
     "output_type": "display_data"
    },
    {
     "data": {
      "application/vnd.jupyter.widget-view+json": {
       "model_id": "f4022bd32e25454fa1b1ef541a826ef3",
       "version_major": 2,
       "version_minor": 0
      },
      "text/plain": [
       "HBox(children=(IntProgress(value=0, max=21174), HTML(value='')))"
      ]
     },
     "metadata": {},
     "output_type": "display_data"
    },
    {
     "data": {
      "text/plain": [
       "array([  2.91422634,  28.00486865,  58.11986614,  77.45985163,\n",
       "        83.79069767,  86.13756614,  86.2474878 ,  87.56428237,\n",
       "        87.61980831,  85.15519568,  84.67153285,  83.25791855,\n",
       "        80.3030303 ,  81.70731707,  73.33333333,  73.33333333,\n",
       "        78.78787879,  72.4137931 ,  78.26086957,  77.77777778,\n",
       "        73.33333333,  78.57142857,  38.46153846,  76.92307692,\n",
       "        91.66666667,  75.        ,  60.        ,  60.        ,\n",
       "        44.44444444,  62.5       ,  85.71428571,  60.        ,\n",
       "        40.        ,  40.        , 100.        ,  50.        ,\n",
       "        50.        ,  25.        ,  50.        ,  75.        ,\n",
       "        75.        ,  75.        ,  75.        ,  33.33333333,\n",
       "        33.33333333,  33.33333333,  66.66666667,  66.66666667,\n",
       "        66.66666667,  66.66666667,  33.33333333,  66.66666667,\n",
       "        66.66666667,  50.        ,  50.        ,  50.        ,\n",
       "       100.        ,  50.        ,  50.        ,  50.        ,\n",
       "         0.        ,   0.        ,   0.        ,   0.        ,\n",
       "         0.        ,   0.        ])"
      ]
     },
     "execution_count": 36,
     "metadata": {},
     "output_type": "execute_result"
    }
   ],
   "source": [
    "tmp_lem_pad = calculateUpperBoundWithPadding(test_lem)\n",
    "tmp_lem_pad * 100"
   ]
  },
  {
   "cell_type": "code",
   "execution_count": 38,
   "metadata": {},
   "outputs": [
    {
     "data": {
      "image/png": "[encoded data removed]",
      "text/plain": [
       "<Figure size 864x504 with 1 Axes>"
      ]
     },
     "metadata": {
      "needs_background": "light"
     },
     "output_type": "display_data"
    }
   ],
   "source": [
    "plt.figure(figsize=(12, 7))\n",
    "grid = np.arange(0, 10, 1)\n",
    "plt.plot(grid, tmp[:len(grid)] * 100, label='без обработки')\n",
    "plt.plot(grid, tmp_lem[:len(grid)] * 100, label='с лемматизацией')\n",
    "plt.plot(grid, tmp_lem_pad[:len(grid)] * 100, label='с лемматизацией и выкидывая слишком редкие')\n",
    "plt.legend(fontsize=15)\n",
    "plt.xlabel('длина префикса', fontsize=20)\n",
    "plt.ylabel('точность', fontsize=20)\n",
    "plt.grid()\n",
    "plt.show()"
   ]
  },
  {
   "cell_type": "code",
   "execution_count": 41,
   "metadata": {
    "scrolled": true
   },
   "outputs": [
    {
     "data": {
      "application/vnd.jupyter.widget-view+json": {
       "model_id": "de6e62c011af48098f43356b57d8c78f",
       "version_major": 2,
       "version_minor": 0
      },
      "text/plain": [
       "HBox(children=(IntProgress(value=0, max=51353), HTML(value='')))"
      ]
     },
     "metadata": {},
     "output_type": "display_data"
    },
    {
     "data": {
      "application/vnd.jupyter.widget-view+json": {
       "model_id": "fb43be5a477840f4867234bc228ac423",
       "version_major": 2,
       "version_minor": 0
      },
      "text/plain": [
       "HBox(children=(IntProgress(value=0, max=51353), HTML(value='')))"
      ]
     },
     "metadata": {},
     "output_type": "display_data"
    },
    {
     "data": {
      "text/plain": [
       "array([  2.61728107,  26.36554404,  58.41036953,  79.75611359,\n",
       "        84.75142279,  87.38883219,  88.38395823,  88.83601031,\n",
       "        89.35091278,  88.41922409,  86.88688689,  86.16462347,\n",
       "        86.60968661,  84.16289593,  82.85714286,  89.24731183,\n",
       "        86.48648649,  84.375     ,  85.10638298,  89.47368421,\n",
       "        87.5       ,  88.        ,  95.23809524,  78.94736842,\n",
       "        77.77777778,  86.66666667,  85.71428571,  84.61538462,\n",
       "        83.33333333,  88.88888889,  77.77777778, 100.        ,\n",
       "       100.        , 100.        ,  75.        , 100.        ,\n",
       "       100.        ,  75.        , 100.        , 100.        ,\n",
       "       100.        , 100.        , 100.        ,  50.        ,\n",
       "        50.        , 100.        ,  50.        , 100.        ,\n",
       "       100.        , 100.        , 100.        , 100.        ,\n",
       "       100.        , 100.        ,  50.        , 100.        ,\n",
       "        50.        , 100.        , 100.        , 100.        ,\n",
       "       100.        , 100.        , 100.        , 100.        ,\n",
       "       100.        , 100.        , 100.        , 100.        ])"
      ]
     },
     "execution_count": 41,
     "metadata": {},
     "output_type": "execute_result"
    }
   ],
   "source": [
    "calculateUpperBoundWithPadding(train_lem) * 100"
   ]
  },
  {
   "cell_type": "code",
   "execution_count": 42,
   "metadata": {
    "scrolled": true
   },
   "outputs": [
    {
     "data": {
      "application/vnd.jupyter.widget-view+json": {
       "model_id": "66ad38cd2953471e9a4f0cb58c848446",
       "version_major": 2,
       "version_minor": 0
      },
      "text/plain": [
       "HBox(children=(IntProgress(value=0, max=51353), HTML(value='')))"
      ]
     },
     "metadata": {},
     "output_type": "display_data"
    },
    {
     "data": {
      "application/vnd.jupyter.widget-view+json": {
       "model_id": "97474a7fda5949c994d6aefb4cf206d1",
       "version_major": 2,
       "version_minor": 0
      },
      "text/plain": [
       "HBox(children=(IntProgress(value=0, max=51353), HTML(value='')))"
      ]
     },
     "metadata": {},
     "output_type": "display_data"
    },
    {
     "data": {
      "text/plain": [
       "array([  2.61728107,  49.61043818,  83.2883095 ,  95.34577965,\n",
       "        96.40656601,  97.98075521,  98.80161367,  99.56375174,\n",
       "        99.83096687,  99.94209612,  99.7997998 ,  99.82486865,\n",
       "       100.        , 100.        , 100.        , 100.        ,\n",
       "       100.        , 100.        , 100.        , 100.        ,\n",
       "       100.        , 100.        , 100.        , 100.        ,\n",
       "       100.        , 100.        , 100.        , 100.        ,\n",
       "       100.        , 100.        , 100.        , 100.        ,\n",
       "       100.        , 100.        , 100.        , 100.        ,\n",
       "       100.        , 100.        , 100.        , 100.        ,\n",
       "       100.        , 100.        , 100.        , 100.        ,\n",
       "       100.        , 100.        , 100.        , 100.        ,\n",
       "       100.        , 100.        , 100.        , 100.        ,\n",
       "       100.        , 100.        , 100.        , 100.        ,\n",
       "       100.        , 100.        , 100.        , 100.        ,\n",
       "       100.        , 100.        , 100.        , 100.        ,\n",
       "       100.        , 100.        , 100.        , 100.        ])"
      ]
     },
     "execution_count": 42,
     "metadata": {},
     "output_type": "execute_result"
    }
   ],
   "source": [
    "calculateUpperBound(train_lem) * 100"
   ]
  },
  {
   "cell_type": "code",
   "execution_count": 47,
   "metadata": {},
   "outputs": [],
   "source": [
    "def simpleModel(train, test):\n",
    "    cnt = dict()\n",
    "    \n",
    "    for line in tqdm_notebook(train):\n",
    "        prefix = \"#_#\"\n",
    "        for word in line:\n",
    "            if prefix not in cnt.keys():\n",
    "                cnt[prefix] = Counter()\n",
    "            cnt[prefix][word] += 1\n",
    "            prefix += word + \"#_#\"\n",
    "    \n",
    "    max_len = np.max(list(map(len, test)))\n",
    "    accrs = np.zeros((max_len, 2))\n",
    "    \n",
    "    for line in tqdm_notebook(test):\n",
    "        prefix = '#_#'\n",
    "        for i, word in enumerate(line):\n",
    "            if prefix in cnt.keys():\n",
    "                pred = cnt[prefix].most_common(1)[0][0]\n",
    "                if pred == word:\n",
    "                    accrs[i, 0] += 1\n",
    "            accrs[i, 1] += 1\n",
    "            prefix += word + \"#_#\"\n",
    "    return accrs[:, 0] / accrs[:, 1]"
   ]
  },
  {
   "cell_type": "code",
   "execution_count": 48,
   "metadata": {
    "scrolled": true
   },
   "outputs": [
    {
     "data": {
      "application/vnd.jupyter.widget-view+json": {
       "model_id": "2a098ae10c794d0e8a8ae0c8447e2938",
       "version_major": 2,
       "version_minor": 0
      },
      "text/plain": [
       "HBox(children=(IntProgress(value=0, max=51353), HTML(value='')))"
      ]
     },
     "metadata": {},
     "output_type": "display_data"
    },
    {
     "data": {
      "application/vnd.jupyter.widget-view+json": {
       "model_id": "f2f13fa4c1ae41b29ccc3bfe363d0375",
       "version_major": 2,
       "version_minor": 0
      },
      "text/plain": [
       "HBox(children=(IntProgress(value=0, max=21174), HTML(value='')))"
      ]
     },
     "metadata": {},
     "output_type": "display_data"
    },
    {
     "data": {
      "text/plain": [
       "array([ 2.91422634, 11.99918856,  5.88986918,  3.67653053,  2.26744186,\n",
       "        2.01058201,  1.06230261,  0.88826554,  0.95846645,  0.8097166 ,\n",
       "        0.        ,  0.        ,  0.        ,  0.        ,  0.        ,\n",
       "        0.        ,  0.        ,  0.        ,  0.        ,  0.        ,\n",
       "        0.        ,  0.        ,  0.        ,  0.        ,  0.        ,\n",
       "        0.        ,  0.        ,  0.        ,  0.        ,  0.        ,\n",
       "        0.        ,  0.        ,  0.        ,  0.        ,  0.        ,\n",
       "        0.        ,  0.        ,  0.        ,  0.        ,  0.        ,\n",
       "        0.        ,  0.        ,  0.        ,  0.        ,  0.        ,\n",
       "        0.        ,  0.        ,  0.        ,  0.        ,  0.        ,\n",
       "        0.        ,  0.        ,  0.        ,  0.        ,  0.        ,\n",
       "        0.        ,  0.        ,  0.        ,  0.        ,  0.        ,\n",
       "        0.        ,  0.        ,  0.        ,  0.        ,  0.        ,\n",
       "        0.        ])"
      ]
     },
     "execution_count": 48,
     "metadata": {},
     "output_type": "execute_result"
    }
   ],
   "source": [
    "simpleModel(train, test) * 100"
   ]
  },
  {
   "cell_type": "code",
   "execution_count": 49,
   "metadata": {},
   "outputs": [
    {
     "data": {
      "application/vnd.jupyter.widget-view+json": {
       "model_id": "f181b19b95be43299ca51bf4ba9b6dcf",
       "version_major": 2,
       "version_minor": 0
      },
      "text/plain": [
       "HBox(children=(IntProgress(value=0, max=51353), HTML(value='')))"
      ]
     },
     "metadata": {},
     "output_type": "display_data"
    },
    {
     "data": {
      "application/vnd.jupyter.widget-view+json": {
       "model_id": "e5b93e6a0bd84d3a9549c7872021afae",
       "version_major": 2,
       "version_minor": 0
      },
      "text/plain": [
       "HBox(children=(IntProgress(value=0, max=21174), HTML(value='')))"
      ]
     },
     "metadata": {},
     "output_type": "display_data"
    },
    {
     "data": {
      "text/plain": [
       "array([ 2.91422634, 12.19697738,  6.27319744,  3.82326567,  2.38372093,\n",
       "        2.09876543,  1.17714614,  0.98176718,  1.11821086,  0.8097166 ,\n",
       "        0.        ,  0.        ,  0.        ,  0.        ,  0.        ,\n",
       "        0.        ,  0.        ,  0.        ,  0.        ,  0.        ,\n",
       "        0.        ,  0.        ,  0.        ,  0.        ,  0.        ,\n",
       "        0.        ,  0.        ,  0.        ,  0.        ,  0.        ,\n",
       "        0.        ,  0.        ,  0.        ,  0.        ,  0.        ,\n",
       "        0.        ,  0.        ,  0.        ,  0.        ,  0.        ,\n",
       "        0.        ,  0.        ,  0.        ,  0.        ,  0.        ,\n",
       "        0.        ,  0.        ,  0.        ,  0.        ,  0.        ,\n",
       "        0.        ,  0.        ,  0.        ,  0.        ,  0.        ,\n",
       "        0.        ,  0.        ,  0.        ,  0.        ,  0.        ,\n",
       "        0.        ,  0.        ,  0.        ,  0.        ,  0.        ,\n",
       "        0.        ])"
      ]
     },
     "execution_count": 49,
     "metadata": {},
     "output_type": "execute_result"
    }
   ],
   "source": [
    "simpleModel(train_lem, test_lem) * 100"
   ]
  },
  {
   "cell_type": "code",
   "execution_count": 51,
   "metadata": {},
   "outputs": [],
   "source": [
    "def advancedModel(train, test):\n",
    "    cnt = dict()\n",
    "    \n",
    "    for line in tqdm_notebook(train):\n",
    "        prefix = \"#_#\"\n",
    "        for word in line:\n",
    "            if prefix not in cnt.keys() and count_words[word] >= 3:\n",
    "                cnt[prefix] = Counter()\n",
    "            if count_words[word] >= 3:\n",
    "                cnt[prefix][word] += 1\n",
    "                prefix += word + \"#_#\"\n",
    "            else:\n",
    "                prefix += \"#PAD#\" + \"#_#\" \n",
    "    \n",
    "    max_len = np.max(list(map(len, test)))\n",
    "    accrs = np.zeros((max_len, 2))\n",
    "    \n",
    "    for line in tqdm_notebook(test):\n",
    "        prefix = '#_#'\n",
    "        for i, word in enumerate(line):\n",
    "            if prefix in cnt:\n",
    "                pred = cnt[prefix].most_common(1)[0][0]\n",
    "                if pred == word:\n",
    "                    accrs[i, 0] += 1\n",
    "            accrs[i, 1] += 1   \n",
    "            if count_words[word] >= 3:\n",
    "                prefix += word + \"#_#\"\n",
    "            else:\n",
    "                prefix += \"#PAD#\" + \"#_#\" \n",
    "    return accrs[:, 0] / accrs[:, 1]"
   ]
  },
  {
   "cell_type": "code",
   "execution_count": 53,
   "metadata": {},
   "outputs": [
    {
     "data": {
      "application/vnd.jupyter.widget-view+json": {
       "model_id": "b560d3a89dbb4d97bc73382c9e0d6e7b",
       "version_major": 2,
       "version_minor": 0
      },
      "text/plain": [
       "HBox(children=(IntProgress(value=0, max=51353), HTML(value='')))"
      ]
     },
     "metadata": {},
     "output_type": "display_data"
    },
    {
     "data": {
      "application/vnd.jupyter.widget-view+json": {
       "model_id": "753ca2dd54b84c4f82faf8a5e5c726fa",
       "version_major": 2,
       "version_minor": 0
      },
      "text/plain": [
       "HBox(children=(IntProgress(value=0, max=21174), HTML(value='')))"
      ]
     },
     "metadata": {},
     "output_type": "display_data"
    },
    {
     "data": {
      "text/plain": [
       "array([ 2.91422634, 11.78618521,  8.29936112,  5.24170539,  2.8255814 ,\n",
       "        2.31040564,  1.34941143,  1.12201964,  1.11821086,  0.67476383,\n",
       "        0.243309  ,  0.        ,  0.        ,  0.        ,  0.        ,\n",
       "        0.        ,  0.        ,  0.        ,  0.        ,  0.        ,\n",
       "        0.        ,  0.        ,  0.        ,  0.        ,  0.        ,\n",
       "        0.        ,  0.        ,  0.        ,  0.        ,  0.        ,\n",
       "        0.        ,  0.        ,  0.        ,  0.        ,  0.        ,\n",
       "        0.        ,  0.        ,  0.        ,  0.        ,  0.        ,\n",
       "        0.        ,  0.        ,  0.        ,  0.        ,  0.        ,\n",
       "        0.        ,  0.        ,  0.        ,  0.        ,  0.        ,\n",
       "        0.        ,  0.        ,  0.        ,  0.        ,  0.        ,\n",
       "        0.        ,  0.        ,  0.        ,  0.        ,  0.        ,\n",
       "        0.        ,  0.        ,  0.        ,  0.        ,  0.        ,\n",
       "        0.        ])"
      ]
     },
     "execution_count": 53,
     "metadata": {},
     "output_type": "execute_result"
    }
   ],
   "source": [
    "advancedModel(train_lem, test_lem) * 100"
   ]
  },
  {
   "cell_type": "code",
   "execution_count": null,
   "metadata": {},
   "outputs": [],
   "source": []
  }
 ],
 "metadata": {
  "kernelspec": {
   "display_name": "Python 3",
   "language": "python",
   "name": "python3"
  },
  "language_info": {
   "codemirror_mode": {
    "name": "ipython",
    "version": 3
   },
   "file_extension": ".py",
   "mimetype": "text/x-python",
   "name": "python",
   "nbconvert_exporter": "python",
   "pygments_lexer": "ipython3",
   "version": "3.7.1"
  }
 },
 "nbformat": 4,
 "nbformat_minor": 2
}
