{
 "cells": [
  {
   "cell_type": "code",
   "execution_count": 1,
   "metadata": {},
   "outputs": [],
   "source": [
    "import numpy as np\n",
    "import matplotlib.pyplot as plt\n",
    "import pandas as pd\n",
    "from nltk.tokenize import WordPunctTokenizer\n",
    "import gensim\n",
    "from gensim.models import KeyedVectors\n",
    "from IPython.display import clear_output\n",
    "from collections import Counter\n",
    "from tqdm import tqdm\n",
    "import seaborn as sns\n",
    "\n",
    "%matplotlib inline"
   ]
  },
  {
   "cell_type": "code",
   "execution_count": 2,
   "metadata": {},
   "outputs": [],
   "source": [
    "from pymystem3 import Mystem\n",
    "from string import punctuation"
   ]
  },
  {
   "cell_type": "code",
   "execution_count": 3,
   "metadata": {},
   "outputs": [],
   "source": [
    "def read_queries(path):\n",
    "    f = open(path)\n",
    "    queries = []\n",
    "    tokenizer = WordPunctTokenizer()\n",
    "    \n",
    "    for line in f:\n",
    "        tmp = []\n",
    "        for q in tokenizer.tokenize(line.lower()):\n",
    "            if not np.all(np.any(np.array(list(q)).reshape(-1, 1) == np.array(list(punctuation)).reshape(1, -1), axis=1)):\n",
    "                tmp.append(q)\n",
    "        queries.append(tmp)\n",
    "    f.close()\n",
    "    return queries\n",
    "\n",
    "def read_queries_with_lemmatization(path):\n",
    "    f = open(path)\n",
    "    queries = []\n",
    "    mystem = Mystem()\n",
    "    tokenizer = WordPunctTokenizer()\n",
    "    \n",
    "    for line in f:\n",
    "        tmp = []\n",
    "        for q in tokenizer.tokenize(line.lower()):\n",
    "            if not np.all(np.any(np.array(list(q)).reshape(-1, 1) == np.array(list(punctuation)).reshape(1, -1), axis=1)):\n",
    "                q_ = mystem.lemmatize(q)\n",
    "                tmp.append(\"\".join(q_).split()[0])\n",
    "        queries.append(tmp)\n",
    "    f.close()\n",
    "    return queries"
   ]
  },
  {
   "cell_type": "code",
   "execution_count": 4,
   "metadata": {},
   "outputs": [
    {
     "data": {
      "text/plain": [
       "([['сибирские', 'сети', 'личный', 'кабинет', 'бердск'],\n",
       "  ['1', 'сантим', 'алжир', '1964'],\n",
       "  ['река', 'колыма', 'на', 'карте', 'россии'],\n",
       "  ['ноофен', 'для', 'каких', 'болезней'],\n",
       "  ['маус', 'хаус', 'спб']],\n",
       " [['сибирский', 'сеть', 'личный', 'кабинет', 'бердск'],\n",
       "  ['1', 'сантим', 'алжир', '1964'],\n",
       "  ['река', 'колыма', 'на', 'карта', 'россия'],\n",
       "  ['ноофен', 'для', 'какой', 'болезнь'],\n",
       "  ['маус', 'хаус', 'спб']],\n",
       " [['сбербанк', 'в', 'кунцево', 'плаза'],\n",
       "  ['торт', 'дикая', 'вишня'],\n",
       "  ['тася', 'кривун', 'танцы', 'на', 'тнт'],\n",
       "  ['рбт', 'ру'],\n",
       "  ['toplü', 'vay', 'sexx']],\n",
       " [['сбербанк', 'в', 'кунцево', 'плаза'],\n",
       "  ['торт', 'дикий', 'вишня'],\n",
       "  ['тася', 'кривун', 'танец', 'на', 'тнт'],\n",
       "  ['рбт', 'ру'],\n",
       "  ['toplü', 'vay', 'sexx']],\n",
       " 51353,\n",
       " 21174)"
      ]
     },
     "execution_count": 4,
     "metadata": {},
     "output_type": "execute_result"
    }
   ],
   "source": [
    "path = 'data/requests.uniq.train'\n",
    "train = read_queries(path)\n",
    "train_lem = read_queries_with_lemmatization(path)\n",
    "path = 'data/requests.uniq.test'\n",
    "test = read_queries(path)\n",
    "test_lem = read_queries_with_lemmatization(path)\n",
    "train[:5], train_lem[:5], test[:5], test_lem[:5], len(train), len(test)"
   ]
  },
  {
   "cell_type": "markdown",
   "metadata": {},
   "source": [
    "### Оценим максимальную точность, которой мы можем достичь"
   ]
  },
  {
   "cell_type": "code",
   "execution_count": 5,
   "metadata": {},
   "outputs": [],
   "source": [
    "from tqdm import tqdm_notebook"
   ]
  },
  {
   "cell_type": "code",
   "execution_count": 6,
   "metadata": {},
   "outputs": [],
   "source": [
    "def calculateUpperBound(data):\n",
    "    cnt = dict()\n",
    "    \n",
    "    for line in tqdm_notebook(data):\n",
    "        prefix = \"#_#\"\n",
    "        for word in line:\n",
    "            if prefix not in cnt.keys():\n",
    "                cnt[prefix] = Counter()\n",
    "            cnt[prefix][word] += 1\n",
    "            prefix += word + \"#_#\"\n",
    "    \n",
    "    max_len = np.max(list(map(len, data)))\n",
    "    accrs = np.zeros((max_len, 2))\n",
    "    \n",
    "    for line in tqdm_notebook(data):\n",
    "        prefix = '#_#'\n",
    "        for i, word in enumerate(line):\n",
    "            pred = cnt[prefix].most_common(1)[0][0]\n",
    "            accrs[i, 1] += 1\n",
    "            if pred == word:\n",
    "                accrs[i, 0] += 1\n",
    "            prefix += word + \"#_#\"\n",
    "    return accrs[:, 0] / accrs[:, 1]"
   ]
  },
  {
   "cell_type": "code",
   "execution_count": 7,
   "metadata": {
    "scrolled": true
   },
   "outputs": [
    {
     "data": {
      "application/vnd.jupyter.widget-view+json": {
       "model_id": "e1498d0eeaad40d5aa0dd4658d9a9193",
       "version_major": 2,
       "version_minor": 0
      },
      "text/plain": [
       "HBox(children=(IntProgress(value=0, max=21174), HTML(value='')))"
      ]
     },
     "metadata": {},
     "output_type": "display_data"
    },
    {
     "name": "stdout",
     "output_type": "stream",
     "text": [
      "\n"
     ]
    },
    {
     "data": {
      "application/vnd.jupyter.widget-view+json": {
       "model_id": "a95b0a5a8b3c4b2f98e52955e3ef2f9e",
       "version_major": 2,
       "version_minor": 0
      },
      "text/plain": [
       "HBox(children=(IntProgress(value=0, max=21174), HTML(value='')))"
      ]
     },
     "metadata": {},
     "output_type": "display_data"
    },
    {
     "name": "stdout",
     "output_type": "stream",
     "text": [
      "\n"
     ]
    },
    {
     "data": {
      "text/plain": [
       "array([  2.91422634,  61.12688914,  88.6279282 ,  97.17942447,\n",
       "        98.74418605,  99.329806  ,  99.59804766,  99.76624591,\n",
       "        99.9201278 , 100.        ,  99.756691  , 100.        ,\n",
       "       100.        , 100.        , 100.        , 100.        ,\n",
       "       100.        , 100.        , 100.        , 100.        ,\n",
       "       100.        , 100.        , 100.        , 100.        ,\n",
       "       100.        , 100.        , 100.        , 100.        ,\n",
       "       100.        , 100.        , 100.        , 100.        ,\n",
       "       100.        , 100.        , 100.        , 100.        ,\n",
       "       100.        , 100.        , 100.        , 100.        ,\n",
       "       100.        , 100.        , 100.        , 100.        ,\n",
       "       100.        , 100.        , 100.        , 100.        ,\n",
       "       100.        , 100.        , 100.        , 100.        ,\n",
       "       100.        , 100.        , 100.        , 100.        ,\n",
       "       100.        , 100.        , 100.        , 100.        ,\n",
       "       100.        , 100.        , 100.        , 100.        ,\n",
       "       100.        , 100.        ])"
      ]
     },
     "execution_count": 7,
     "metadata": {},
     "output_type": "execute_result"
    }
   ],
   "source": [
    "tmp = calculateUpperBound(test)\n",
    "tmp * 100"
   ]
  },
  {
   "cell_type": "code",
   "execution_count": 35,
   "metadata": {
    "scrolled": true
   },
   "outputs": [
    {
     "data": {
      "application/vnd.jupyter.widget-view+json": {
       "model_id": "f8452b7fe4a94f8a85be72a8c5308396",
       "version_major": 2,
       "version_minor": 0
      },
      "text/plain": [
       "HBox(children=(IntProgress(value=0, max=21174), HTML(value='')))"
      ]
     },
     "metadata": {},
     "output_type": "display_data"
    },
    {
     "data": {
      "application/vnd.jupyter.widget-view+json": {
       "model_id": "86ef46bd5def4bbaa2b106f3b5078ccb",
       "version_major": 2,
       "version_minor": 0
      },
      "text/plain": [
       "HBox(children=(IntProgress(value=0, max=21174), HTML(value='')))"
      ]
     },
     "metadata": {},
     "output_type": "display_data"
    },
    {
     "data": {
      "text/plain": [
       "array([  2.91422634,  57.06968252,  87.5570429 ,  96.98377761,\n",
       "        98.60465116,  99.31216931,  99.5406259 ,  99.71949509,\n",
       "        99.9201278 , 100.        ,  99.756691  , 100.        ,\n",
       "       100.        , 100.        , 100.        , 100.        ,\n",
       "       100.        , 100.        , 100.        , 100.        ,\n",
       "       100.        , 100.        , 100.        , 100.        ,\n",
       "       100.        , 100.        , 100.        , 100.        ,\n",
       "       100.        , 100.        , 100.        , 100.        ,\n",
       "       100.        , 100.        , 100.        , 100.        ,\n",
       "       100.        , 100.        , 100.        , 100.        ,\n",
       "       100.        , 100.        , 100.        , 100.        ,\n",
       "       100.        , 100.        , 100.        , 100.        ,\n",
       "       100.        , 100.        , 100.        , 100.        ,\n",
       "       100.        , 100.        , 100.        , 100.        ,\n",
       "       100.        , 100.        , 100.        , 100.        ,\n",
       "       100.        , 100.        , 100.        , 100.        ,\n",
       "       100.        , 100.        ])"
      ]
     },
     "execution_count": 35,
     "metadata": {},
     "output_type": "execute_result"
    }
   ],
   "source": [
    "tmp_lem = calculateUpperBound(test_lem)\n",
    "tmp_lem * 100"
   ]
  },
  {
   "cell_type": "code",
   "execution_count": 10,
   "metadata": {},
   "outputs": [
    {
     "data": {
      "text/plain": [
       "(array([ 1,  2,  3,  4,  5,  6,  7,  8,  9, 10]),\n",
       " array([0.17574006, 0.24519813, 0.29055625, 0.32405664, 0.35185578,\n",
       "        0.37601319, 0.39457541, 0.41182944, 0.42762059, 0.4410561 ]))"
      ]
     },
     "execution_count": 10,
     "metadata": {},
     "output_type": "execute_result"
    }
   ],
   "source": [
    "count_words = Counter()\n",
    "\n",
    "for d in [train]:\n",
    "    for q in d:\n",
    "        for word in q:\n",
    "            count_words[word] += 1\n",
    "        \n",
    "freq, counts = np.unique(np.array(list(count_words.values())), return_counts=True) \n",
    "p = counts * freq \n",
    "p = p / p.sum()\n",
    "p = np.cumsum(p)\n",
    "freq[:10], p[:10]"
   ]
  },
  {
   "cell_type": "code",
   "execution_count": 9,
   "metadata": {},
   "outputs": [],
   "source": [
    "def calculateUpperBoundWithPadding(data, bound=3):\n",
    "    cnt = dict()\n",
    "    \n",
    "    for line in tqdm_notebook(data):\n",
    "        prefix = \"#_#\"\n",
    "        for word in line:\n",
    "            if prefix not in cnt.keys() and count_words[word] >= 3:\n",
    "                cnt[prefix] = Counter()\n",
    "            if count_words[word] >= 3:\n",
    "                cnt[prefix][word] += 1\n",
    "                prefix += word + \"#_#\"\n",
    "            else:\n",
    "                prefix += \"#PAD#\" + \"#_#\" \n",
    "    \n",
    "    max_len = np.max(list(map(len, data)))\n",
    "    accrs = np.zeros((max_len, 2))\n",
    "    \n",
    "    for line in tqdm_notebook(data):\n",
    "        prefix = '#_#'\n",
    "        for i, word in enumerate(line):\n",
    "            if prefix in cnt:\n",
    "                pred = cnt[prefix].most_common(1)[0][0]\n",
    "                if pred == word:\n",
    "                    accrs[i, 0] += 1\n",
    "            accrs[i, 1] += 1   \n",
    "            if count_words[word] >= 3:\n",
    "                prefix += word + \"#_#\"\n",
    "            else:\n",
    "                prefix += \"#PAD#\" + \"#_#\" \n",
    "    return accrs[:, 0] / accrs[:, 1]"
   ]
  },
  {
   "cell_type": "code",
   "execution_count": 11,
   "metadata": {},
   "outputs": [
    {
     "data": {
      "application/vnd.jupyter.widget-view+json": {
       "model_id": "518ccbb6e08142348b63ae444d7753e2",
       "version_major": 2,
       "version_minor": 0
      },
      "text/plain": [
       "HBox(children=(IntProgress(value=0, max=21174), HTML(value='')))"
      ]
     },
     "metadata": {},
     "output_type": "display_data"
    },
    {
     "name": "stdout",
     "output_type": "stream",
     "text": [
      "\n"
     ]
    },
    {
     "data": {
      "application/vnd.jupyter.widget-view+json": {
       "model_id": "699225ef80f543b69e7650e6f58f4ac2",
       "version_major": 2,
       "version_minor": 0
      },
      "text/plain": [
       "HBox(children=(IntProgress(value=0, max=21174), HTML(value='')))"
      ]
     },
     "metadata": {},
     "output_type": "display_data"
    },
    {
     "name": "stdout",
     "output_type": "stream",
     "text": [
      "\n"
     ]
    },
    {
     "data": {
      "text/plain": [
       "array([  2.91422634,  24.42438381,  47.28932157,  64.97106057,\n",
       "        72.39534884,  76.0670194 ,  76.42836635,  77.3258532 ,\n",
       "        76.51757188,  74.89878543,  71.77615572,  68.77828054,\n",
       "        69.6969697 ,  64.63414634,  66.66666667,  57.77777778,\n",
       "        57.57575758,  51.72413793,  65.2173913 ,  61.11111111,\n",
       "        73.33333333,  57.14285714,  23.07692308,  69.23076923,\n",
       "        66.66666667,  66.66666667,  50.        ,  50.        ,\n",
       "        44.44444444,  50.        ,  71.42857143,  40.        ,\n",
       "        20.        ,  40.        , 100.        ,  25.        ,\n",
       "        50.        ,  25.        ,  50.        ,  50.        ,\n",
       "        75.        ,  50.        ,  50.        ,  33.33333333,\n",
       "        33.33333333,  33.33333333,  66.66666667,  33.33333333,\n",
       "        66.66666667,  66.66666667,   0.        ,  66.66666667,\n",
       "        33.33333333,   0.        ,   0.        ,  50.        ,\n",
       "       100.        ,  50.        ,  50.        ,   0.        ,\n",
       "         0.        ,   0.        ,   0.        ,   0.        ,\n",
       "         0.        ,   0.        ])"
      ]
     },
     "execution_count": 11,
     "metadata": {},
     "output_type": "execute_result"
    }
   ],
   "source": [
    "tmp_pad = calculateUpperBoundWithPadding(test)\n",
    "tmp_pad * 100"
   ]
  },
  {
   "cell_type": "code",
   "execution_count": 36,
   "metadata": {
    "scrolled": true
   },
   "outputs": [
    {
     "data": {
      "application/vnd.jupyter.widget-view+json": {
       "model_id": "5317d355a24c4baa96906ab09b591944",
       "version_major": 2,
       "version_minor": 0
      },
      "text/plain": [
       "HBox(children=(IntProgress(value=0, max=21174), HTML(value='')))"
      ]
     },
     "metadata": {},
     "output_type": "display_data"
    },
    {
     "data": {
      "application/vnd.jupyter.widget-view+json": {
       "model_id": "f4022bd32e25454fa1b1ef541a826ef3",
       "version_major": 2,
       "version_minor": 0
      },
      "text/plain": [
       "HBox(children=(IntProgress(value=0, max=21174), HTML(value='')))"
      ]
     },
     "metadata": {},
     "output_type": "display_data"
    },
    {
     "data": {
      "text/plain": [
       "array([  2.91422634,  28.00486865,  58.11986614,  77.45985163,\n",
       "        83.79069767,  86.13756614,  86.2474878 ,  87.56428237,\n",
       "        87.61980831,  85.15519568,  84.67153285,  83.25791855,\n",
       "        80.3030303 ,  81.70731707,  73.33333333,  73.33333333,\n",
       "        78.78787879,  72.4137931 ,  78.26086957,  77.77777778,\n",
       "        73.33333333,  78.57142857,  38.46153846,  76.92307692,\n",
       "        91.66666667,  75.        ,  60.        ,  60.        ,\n",
       "        44.44444444,  62.5       ,  85.71428571,  60.        ,\n",
       "        40.        ,  40.        , 100.        ,  50.        ,\n",
       "        50.        ,  25.        ,  50.        ,  75.        ,\n",
       "        75.        ,  75.        ,  75.        ,  33.33333333,\n",
       "        33.33333333,  33.33333333,  66.66666667,  66.66666667,\n",
       "        66.66666667,  66.66666667,  33.33333333,  66.66666667,\n",
       "        66.66666667,  50.        ,  50.        ,  50.        ,\n",
       "       100.        ,  50.        ,  50.        ,  50.        ,\n",
       "         0.        ,   0.        ,   0.        ,   0.        ,\n",
       "         0.        ,   0.        ])"
      ]
     },
     "execution_count": 36,
     "metadata": {},
     "output_type": "execute_result"
    }
   ],
   "source": [
    "tmp_lem_pad = calculateUpperBoundWithPadding(test_lem)\n",
    "tmp_lem_pad * 100"
   ]
  },
  {
   "cell_type": "code",
   "execution_count": 38,
   "metadata": {},
   "outputs": [
    {
     "data": {
      "image/png": "[encoded data removed]",
      "text/plain": [
       "<Figure size 864x504 with 1 Axes>"
      ]
     },
     "metadata": {
      "needs_background": "light"
     },
     "output_type": "display_data"
    }
   ],
   "source": [
    "plt.figure(figsize=(12, 7))\n",
    "grid = np.arange(0, 10, 1)\n",
    "plt.plot(grid, tmp[:len(grid)] * 100, label='без обработки')\n",
    "plt.plot(grid, tmp_lem[:len(grid)] * 100, label='с лемматизацией')\n",
    "plt.plot(grid, tmp_lem_pad[:len(grid)] * 100, label='с лемматизацией и выкидывая слишком редкие')\n",
    "plt.legend(fontsize=15)\n",
    "plt.xlabel('длина префикса', fontsize=20)\n",
    "plt.ylabel('точность', fontsize=20)\n",
    "plt.grid()\n",
    "plt.show()"
   ]
  },
  {
   "cell_type": "code",
   "execution_count": 41,
   "metadata": {
    "scrolled": true
   },
   "outputs": [
    {
     "data": {
      "application/vnd.jupyter.widget-view+json": {
       "model_id": "de6e62c011af48098f43356b57d8c78f",
       "version_major": 2,
       "version_minor": 0
      },
      "text/plain": [
       "HBox(children=(IntProgress(value=0, max=51353), HTML(value='')))"
      ]
     },
     "metadata": {},
     "output_type": "display_data"
    },
    {
     "data": {
      "application/vnd.jupyter.widget-view+json": {
       "model_id": "fb43be5a477840f4867234bc228ac423",
       "version_major": 2,
       "version_minor": 0
      },
      "text/plain": [
       "HBox(children=(IntProgress(value=0, max=51353), HTML(value='')))"
      ]
     },
     "metadata": {},
     "output_type": "display_data"
    },
    {
     "data": {
      "text/plain": [
       "array([  2.61728107,  26.36554404,  58.41036953,  79.75611359,\n",
       "        84.75142279,  87.38883219,  88.38395823,  88.83601031,\n",
       "        89.35091278,  88.41922409,  86.88688689,  86.16462347,\n",
       "        86.60968661,  84.16289593,  82.85714286,  89.24731183,\n",
       "        86.48648649,  84.375     ,  85.10638298,  89.47368421,\n",
       "        87.5       ,  88.        ,  95.23809524,  78.94736842,\n",
       "        77.77777778,  86.66666667,  85.71428571,  84.61538462,\n",
       "        83.33333333,  88.88888889,  77.77777778, 100.        ,\n",
       "       100.        , 100.        ,  75.        , 100.        ,\n",
       "       100.        ,  75.        , 100.        , 100.        ,\n",
       "       100.        , 100.        , 100.        ,  50.        ,\n",
       "        50.        , 100.        ,  50.        , 100.        ,\n",
       "       100.        , 100.        , 100.        , 100.        ,\n",
       "       100.        , 100.        ,  50.        , 100.        ,\n",
       "        50.        , 100.        , 100.        , 100.        ,\n",
       "       100.        , 100.        , 100.        , 100.        ,\n",
       "       100.        , 100.        , 100.        , 100.        ])"
      ]
     },
     "execution_count": 41,
     "metadata": {},
     "output_type": "execute_result"
    }
   ],
   "source": [
    "calculateUpperBoundWithPadding(train_lem) * 100"
   ]
  },
  {
   "cell_type": "code",
   "execution_count": 42,
   "metadata": {
    "scrolled": true
   },
   "outputs": [
    {
     "data": {
      "application/vnd.jupyter.widget-view+json": {
       "model_id": "66ad38cd2953471e9a4f0cb58c848446",
       "version_major": 2,
       "version_minor": 0
      },
      "text/plain": [
       "HBox(children=(IntProgress(value=0, max=51353), HTML(value='')))"
      ]
     },
     "metadata": {},
     "output_type": "display_data"
    },
    {
     "data": {
      "application/vnd.jupyter.widget-view+json": {
       "model_id": "97474a7fda5949c994d6aefb4cf206d1",
       "version_major": 2,
       "version_minor": 0
      },
      "text/plain": [
       "HBox(children=(IntProgress(value=0, max=51353), HTML(value='')))"
      ]
     },
     "metadata": {},
     "output_type": "display_data"
    },
    {
     "data": {
      "text/plain": [
       "array([  2.61728107,  49.61043818,  83.2883095 ,  95.34577965,\n",
       "        96.40656601,  97.98075521,  98.80161367,  99.56375174,\n",
       "        99.83096687,  99.94209612,  99.7997998 ,  99.82486865,\n",
       "       100.        , 100.        , 100.        , 100.        ,\n",
       "       100.        , 100.        , 100.        , 100.        ,\n",
       "       100.        , 100.        , 100.        , 100.        ,\n",
       "       100.        , 100.        , 100.        , 100.        ,\n",
       "       100.        , 100.        , 100.        , 100.        ,\n",
       "       100.        , 100.        , 100.        , 100.        ,\n",
       "       100.        , 100.        , 100.        , 100.        ,\n",
       "       100.        , 100.        , 100.        , 100.        ,\n",
       "       100.        , 100.        , 100.        , 100.        ,\n",
       "       100.        , 100.        , 100.        , 100.        ,\n",
       "       100.        , 100.        , 100.        , 100.        ,\n",
       "       100.        , 100.        , 100.        , 100.        ,\n",
       "       100.        , 100.        , 100.        , 100.        ,\n",
       "       100.        , 100.        , 100.        , 100.        ])"
      ]
     },
     "execution_count": 42,
     "metadata": {},
     "output_type": "execute_result"
    }
   ],
   "source": [
    "calculateUpperBound(train_lem) * 100"
   ]
  },
  {
   "cell_type": "markdown",
   "metadata": {},
   "source": [
    "## Переходим к нижним оценкам"
   ]
  },
  {
   "cell_type": "code",
   "execution_count": 14,
   "metadata": {},
   "outputs": [
    {
     "data": {
      "text/plain": [
       "(array([0.02914226, 0.61126889, 0.88627928, 0.97179424, 0.98744186,\n",
       "        0.99329806, 0.99598048, 0.99766246, 0.99920128, 1.        ]),\n",
       " array([0.02914226, 0.24424384, 0.47289322, 0.64971061, 0.72395349,\n",
       "        0.76067019, 0.76428366, 0.77325853, 0.76517572, 0.74898785]))"
      ]
     },
     "execution_count": 14,
     "metadata": {},
     "output_type": "execute_result"
    }
   ],
   "source": [
    "tmp[:10], tmp_pad[:10]"
   ]
  },
  {
   "cell_type": "code",
   "execution_count": 8,
   "metadata": {},
   "outputs": [],
   "source": [
    "def simpleModel(train, test):\n",
    "    cnt = dict()\n",
    "    \n",
    "    for line in tqdm_notebook(train):\n",
    "        prefix = \"#_#\"\n",
    "        for word in line:\n",
    "            if prefix not in cnt.keys():\n",
    "                cnt[prefix] = Counter()\n",
    "            cnt[prefix][word] += 1\n",
    "            prefix += word + \"#_#\"\n",
    "    \n",
    "    max_len = np.max(list(map(len, test)))\n",
    "    accrs = np.zeros((max_len, 2))\n",
    "    \n",
    "    for line in tqdm_notebook(test):\n",
    "        prefix = '#_#'\n",
    "        for i, word in enumerate(line):\n",
    "            if prefix in cnt.keys():\n",
    "                pred = cnt[prefix].most_common(1)[0][0]\n",
    "                if pred == word:\n",
    "                    accrs[i, 0] += 1\n",
    "            accrs[i, 1] += 1\n",
    "            prefix += word + \"#_#\"\n",
    "    return accrs[:, 0] / accrs[:, 1]"
   ]
  },
  {
   "cell_type": "code",
   "execution_count": 9,
   "metadata": {
    "scrolled": true
   },
   "outputs": [
    {
     "data": {
      "application/vnd.jupyter.widget-view+json": {
       "model_id": "2c7b3599301a4a7e9f517bed249571a0",
       "version_major": 2,
       "version_minor": 0
      },
      "text/plain": [
       "HBox(children=(IntProgress(value=0, max=51353), HTML(value='')))"
      ]
     },
     "metadata": {},
     "output_type": "display_data"
    },
    {
     "name": "stdout",
     "output_type": "stream",
     "text": [
      "\n"
     ]
    },
    {
     "data": {
      "application/vnd.jupyter.widget-view+json": {
       "model_id": "5cb762622eef49219836f60a97b50bf4",
       "version_major": 2,
       "version_minor": 0
      },
      "text/plain": [
       "HBox(children=(IntProgress(value=0, max=21174), HTML(value='')))"
      ]
     },
     "metadata": {},
     "output_type": "display_data"
    },
    {
     "name": "stdout",
     "output_type": "stream",
     "text": [
      "\n"
     ]
    },
    {
     "data": {
      "text/plain": [
       "array([0.02914226, 0.11999189, 0.05889869, 0.03676531, 0.02267442,\n",
       "       0.02010582, 0.01062303, 0.00888266, 0.00958466, 0.00809717,\n",
       "       0.        , 0.        , 0.        , 0.        , 0.        ,\n",
       "       0.        , 0.        , 0.        , 0.        , 0.        ,\n",
       "       0.        , 0.        , 0.        , 0.        , 0.        ,\n",
       "       0.        , 0.        , 0.        , 0.        , 0.        ,\n",
       "       0.        , 0.        , 0.        , 0.        , 0.        ,\n",
       "       0.        , 0.        , 0.        , 0.        , 0.        ,\n",
       "       0.        , 0.        , 0.        , 0.        , 0.        ,\n",
       "       0.        , 0.        , 0.        , 0.        , 0.        ,\n",
       "       0.        , 0.        , 0.        , 0.        , 0.        ,\n",
       "       0.        , 0.        , 0.        , 0.        , 0.        ,\n",
       "       0.        , 0.        , 0.        , 0.        , 0.        ,\n",
       "       0.        ])"
      ]
     },
     "execution_count": 9,
     "metadata": {},
     "output_type": "execute_result"
    }
   ],
   "source": [
    "simple = simpleModel(train, test) \n",
    "simple"
   ]
  },
  {
   "cell_type": "code",
   "execution_count": 49,
   "metadata": {},
   "outputs": [
    {
     "data": {
      "application/vnd.jupyter.widget-view+json": {
       "model_id": "f181b19b95be43299ca51bf4ba9b6dcf",
       "version_major": 2,
       "version_minor": 0
      },
      "text/plain": [
       "HBox(children=(IntProgress(value=0, max=51353), HTML(value='')))"
      ]
     },
     "metadata": {},
     "output_type": "display_data"
    },
    {
     "data": {
      "application/vnd.jupyter.widget-view+json": {
       "model_id": "e5b93e6a0bd84d3a9549c7872021afae",
       "version_major": 2,
       "version_minor": 0
      },
      "text/plain": [
       "HBox(children=(IntProgress(value=0, max=21174), HTML(value='')))"
      ]
     },
     "metadata": {},
     "output_type": "display_data"
    },
    {
     "data": {
      "text/plain": [
       "array([ 2.91422634, 12.19697738,  6.27319744,  3.82326567,  2.38372093,\n",
       "        2.09876543,  1.17714614,  0.98176718,  1.11821086,  0.8097166 ,\n",
       "        0.        ,  0.        ,  0.        ,  0.        ,  0.        ,\n",
       "        0.        ,  0.        ,  0.        ,  0.        ,  0.        ,\n",
       "        0.        ,  0.        ,  0.        ,  0.        ,  0.        ,\n",
       "        0.        ,  0.        ,  0.        ,  0.        ,  0.        ,\n",
       "        0.        ,  0.        ,  0.        ,  0.        ,  0.        ,\n",
       "        0.        ,  0.        ,  0.        ,  0.        ,  0.        ,\n",
       "        0.        ,  0.        ,  0.        ,  0.        ,  0.        ,\n",
       "        0.        ,  0.        ,  0.        ,  0.        ,  0.        ,\n",
       "        0.        ,  0.        ,  0.        ,  0.        ,  0.        ,\n",
       "        0.        ,  0.        ,  0.        ,  0.        ,  0.        ,\n",
       "        0.        ,  0.        ,  0.        ,  0.        ,  0.        ,\n",
       "        0.        ])"
      ]
     },
     "execution_count": 49,
     "metadata": {},
     "output_type": "execute_result"
    }
   ],
   "source": [
    "simpleModel(train_lem, test_lem) * 100"
   ]
  },
  {
   "cell_type": "code",
   "execution_count": 17,
   "metadata": {},
   "outputs": [],
   "source": [
    "def advancedModel(train, test):\n",
    "    cnt = dict()\n",
    "    \n",
    "    for line in tqdm_notebook(train):\n",
    "        prefix = \"#_#\"\n",
    "        for word in line:\n",
    "            if prefix not in cnt.keys() and count_words[word] >= 3:\n",
    "                cnt[prefix] = Counter()\n",
    "            if count_words[word] >= 3:\n",
    "                cnt[prefix][word] += 1\n",
    "                prefix += word + \"#_#\"\n",
    "            else:\n",
    "                prefix += \"#PAD#\" + \"#_#\" \n",
    "    \n",
    "    max_len = np.max(list(map(len, test)))\n",
    "    accrs = np.zeros((max_len, 2))\n",
    "    \n",
    "    for line in tqdm_notebook(test):\n",
    "        prefix = '#_#'\n",
    "        for i, word in enumerate(line):\n",
    "            if prefix in cnt:\n",
    "                pred = cnt[prefix].most_common(1)[0][0]\n",
    "                if pred == word:\n",
    "                    accrs[i, 0] += 1\n",
    "            accrs[i, 1] += 1   \n",
    "            if count_words[word] >= 3:\n",
    "                prefix += word + \"#_#\"\n",
    "            else:\n",
    "                prefix += \"#PAD#\" + \"#_#\" \n",
    "    return accrs[:, 0] / accrs[:, 1]"
   ]
  },
  {
   "cell_type": "code",
   "execution_count": 18,
   "metadata": {},
   "outputs": [
    {
     "data": {
      "application/vnd.jupyter.widget-view+json": {
       "model_id": "9dccb497a82d42319fad085c2db8d370",
       "version_major": 2,
       "version_minor": 0
      },
      "text/plain": [
       "HBox(children=(IntProgress(value=0, max=51353), HTML(value='')))"
      ]
     },
     "metadata": {},
     "output_type": "display_data"
    },
    {
     "name": "stdout",
     "output_type": "stream",
     "text": [
      "\n"
     ]
    },
    {
     "data": {
      "application/vnd.jupyter.widget-view+json": {
       "model_id": "9f6717ec1a224dc798204e4fd051640c",
       "version_major": 2,
       "version_minor": 0
      },
      "text/plain": [
       "HBox(children=(IntProgress(value=0, max=21174), HTML(value='')))"
      ]
     },
     "metadata": {},
     "output_type": "display_data"
    },
    {
     "name": "stdout",
     "output_type": "stream",
     "text": [
      "\n"
     ]
    },
    {
     "data": {
      "text/plain": [
       "array([0.02914226, 0.11360179, 0.08451476, 0.05738974, 0.03104651,\n",
       "       0.02398589, 0.01320701, 0.01028518, 0.00958466, 0.00674764,\n",
       "       0.00243309, 0.        , 0.        , 0.        , 0.        ,\n",
       "       0.        , 0.        , 0.        , 0.        , 0.        ,\n",
       "       0.        , 0.        , 0.        , 0.        , 0.        ,\n",
       "       0.        , 0.        , 0.        , 0.        , 0.        ,\n",
       "       0.        , 0.        , 0.        , 0.        , 0.        ,\n",
       "       0.        , 0.        , 0.        , 0.        , 0.        ,\n",
       "       0.        , 0.        , 0.        , 0.        , 0.        ,\n",
       "       0.        , 0.        , 0.        , 0.        , 0.        ,\n",
       "       0.        , 0.        , 0.        , 0.        , 0.        ,\n",
       "       0.        , 0.        , 0.        , 0.        , 0.        ,\n",
       "       0.        , 0.        , 0.        , 0.        , 0.        ,\n",
       "       0.        ])"
      ]
     },
     "execution_count": 18,
     "metadata": {},
     "output_type": "execute_result"
    }
   ],
   "source": [
    "advanced = advancedModel(train, test)\n",
    "advanced"
   ]
  },
  {
   "cell_type": "code",
   "execution_count": 19,
   "metadata": {},
   "outputs": [
    {
     "data": {
      "text/plain": [
       "(array([0.02914226, 0.61126889, 0.88627928, 0.97179424, 0.98744186,\n",
       "        0.99329806, 0.99598048, 0.99766246, 0.99920128, 1.        ]),\n",
       " array([0.02914226, 0.24424384, 0.47289322, 0.64971061, 0.72395349,\n",
       "        0.76067019, 0.76428366, 0.77325853, 0.76517572, 0.74898785]),\n",
       " array([0.02914226, 0.11999189, 0.05889869, 0.03676531, 0.02267442,\n",
       "        0.02010582, 0.01062303, 0.00888266, 0.00958466, 0.00809717]))"
      ]
     },
     "execution_count": 19,
     "metadata": {},
     "output_type": "execute_result"
    }
   ],
   "source": [
    "tmp[:10], tmp_pad[:10], simple[:10]"
   ]
  },
  {
   "cell_type": "code",
   "execution_count": 10,
   "metadata": {},
   "outputs": [],
   "source": [
    "def bigram(train, test):\n",
    "    cnt = dict()\n",
    "    for line in tqdm_notebook(train):\n",
    "        prefix = \"\"\n",
    "        for word in line:\n",
    "            if prefix not in cnt:\n",
    "                cnt[prefix] = Counter()\n",
    "            cnt[prefix][word] += 1\n",
    "            prefix = word\n",
    "    \n",
    "    max_len = np.max(list(map(len, test)))\n",
    "    accrs = np.zeros((max_len, 2))\n",
    "    \n",
    "    for line in tqdm_notebook(test):\n",
    "        prefix = ''\n",
    "        for i, word in enumerate(line):\n",
    "            if prefix in cnt:\n",
    "                pred = cnt[prefix].most_common(1)[0][0]\n",
    "                if pred == word:\n",
    "                    accrs[i, 0] += 1\n",
    "            accrs[i, 1] += 1   \n",
    "            prefix = word \n",
    "    return accrs[:, 0] / accrs[:, 1]"
   ]
  },
  {
   "cell_type": "code",
   "execution_count": 11,
   "metadata": {},
   "outputs": [
    {
     "data": {
      "application/vnd.jupyter.widget-view+json": {
       "model_id": "6dbecd2f473f4f90b78d6e2f5a7b2460",
       "version_major": 2,
       "version_minor": 0
      },
      "text/plain": [
       "HBox(children=(IntProgress(value=0, max=51353), HTML(value='')))"
      ]
     },
     "metadata": {},
     "output_type": "display_data"
    },
    {
     "name": "stdout",
     "output_type": "stream",
     "text": [
      "\n"
     ]
    },
    {
     "data": {
      "application/vnd.jupyter.widget-view+json": {
       "model_id": "2505ba1115e841ba8d1128399a80c08a",
       "version_major": 2,
       "version_minor": 0
      },
      "text/plain": [
       "HBox(children=(IntProgress(value=0, max=21174), HTML(value='')))"
      ]
     },
     "metadata": {},
     "output_type": "display_data"
    },
    {
     "name": "stdout",
     "output_type": "stream",
     "text": [
      "\n"
     ]
    },
    {
     "data": {
      "text/plain": [
       "array([0.02914226, 0.11781114, 0.10015211, 0.11893699, 0.12790698,\n",
       "       0.12416226, 0.1366638 , 0.14165498, 0.11980831, 0.11875843,\n",
       "       0.07542579, 0.06334842, 0.04545455, 0.02439024, 0.01666667,\n",
       "       0.        , 0.03030303, 0.03448276, 0.        , 0.        ,\n",
       "       0.06666667, 0.07142857, 0.        , 0.07692308, 0.        ,\n",
       "       0.        , 0.        , 0.        , 0.        , 0.125     ,\n",
       "       0.        , 0.        , 0.        , 0.        , 0.        ,\n",
       "       0.        , 0.        , 0.        , 0.        , 0.        ,\n",
       "       0.        , 0.        , 0.        , 0.        , 0.        ,\n",
       "       0.        , 0.        , 0.33333333, 0.33333333, 0.        ,\n",
       "       0.        , 0.        , 0.        , 0.        , 0.        ,\n",
       "       0.        , 0.        , 0.        , 0.        , 0.        ,\n",
       "       0.        , 0.        , 0.        , 0.        , 0.        ,\n",
       "       0.        ])"
      ]
     },
     "execution_count": 11,
     "metadata": {},
     "output_type": "execute_result"
    }
   ],
   "source": [
    "bigram = bigram(train, test)\n",
    "bigram"
   ]
  },
  {
   "cell_type": "code",
   "execution_count": 22,
   "metadata": {},
   "outputs": [
    {
     "data": {
      "text/plain": [
       "(array([0.02914226, 0.61126889, 0.88627928, 0.97179424, 0.98744186,\n",
       "        0.99329806, 0.99598048, 0.99766246, 0.99920128, 1.        ]),\n",
       " array([0.02914226, 0.11999189, 0.05889869, 0.03676531, 0.02267442,\n",
       "        0.02010582, 0.01062303, 0.00888266, 0.00958466, 0.00809717]),\n",
       " array([0.02914226, 0.11781114, 0.10015211, 0.11893699, 0.12790698,\n",
       "        0.12416226, 0.1366638 , 0.14165498, 0.11980831, 0.11875843]))"
      ]
     },
     "execution_count": 22,
     "metadata": {},
     "output_type": "execute_result"
    }
   ],
   "source": [
    "tmp[:10],  simple[:10], bigram[:10]"
   ]
  },
  {
   "cell_type": "code",
   "execution_count": 12,
   "metadata": {},
   "outputs": [
    {
     "data": {
      "image/png": "[encoded data removed]",
      "text/plain": [
       "<Figure size 864x504 with 1 Axes>"
      ]
     },
     "metadata": {},
     "output_type": "display_data"
    }
   ],
   "source": [
    "sns.set_style(\"whitegrid\")\n",
    "plt.figure(figsize=(12, 7))\n",
    "#plt.hist(lens_train, bins=len(np.unique(lens_train)))\n",
    "bound = 10\n",
    "grid = np.arange(0, bound, 1)\n",
    "plt.plot(grid, tmp[:bound] * 100, label='простая верхняя оценка')\n",
    "plt.plot(grid, simple[:bound] * 100, label=\"простая нижняя оценка\")\n",
    "plt.plot(grid, bigram[:bound] * 100, label=\"биграммная нижняя оценка\")\n",
    "\n",
    "plt.fill_between(grid, tmp[:bound] * 100, bigram[:bound] * 100, alpha=0.2)\n",
    "plt.xlim([0, bound-1])\n",
    "plt.ylim([0, 100])\n",
    "plt.xlabel(\"Длина префикса\", fontsize=20)\n",
    "plt.ylabel(\"Точность предсказания (в процентах)\", fontsize=20)\n",
    "plt.legend(fontsize=15)\n",
    "#plt.show()\n",
    "plt.savefig('upper_and_lower.png')"
   ]
  },
  {
   "cell_type": "code",
   "execution_count": 41,
   "metadata": {},
   "outputs": [],
   "source": [
    "def bigramAnvanced(train, test):\n",
    "    cnt = dict()\n",
    "    for line in tqdm_notebook(train):\n",
    "        prefix = \"\"\n",
    "        for word in line:\n",
    "            if prefix not in cnt and word in count_words.keys() and count_words[word] >= 3:\n",
    "                cnt[prefix] = Counter()\n",
    "            if word in count_words.keys() and count_words[word] >= 3:\n",
    "                cnt[prefix][word] += 1\n",
    "                prefix = word\n",
    "            else:\n",
    "                prefix = \"#PAD#\"\n",
    "    \n",
    "    max_len = np.max(list(map(len, test)))\n",
    "    accrs = np.zeros((max_len, 2))\n",
    "    \n",
    "    for line in tqdm_notebook(test):\n",
    "        prefix = ''\n",
    "        for i, word in enumerate(line):\n",
    "            if prefix in cnt:\n",
    "                pred = cnt[prefix].most_common(1)[0][0]\n",
    "                if pred == word:\n",
    "                    accrs[i, 0] += 1\n",
    "            accrs[i, 1] += 1   \n",
    "            if word in count_words.keys() and count_words[word] >= 3:\n",
    "                prefix = word \n",
    "            else:\n",
    "                prefix = \"#PAD#\"\n",
    "    return accrs[:, 0] / accrs[:, 1]"
   ]
  },
  {
   "cell_type": "code",
   "execution_count": 42,
   "metadata": {},
   "outputs": [
    {
     "data": {
      "application/vnd.jupyter.widget-view+json": {
       "model_id": "18931b6c409547598a6a5c16b5204467",
       "version_major": 2,
       "version_minor": 0
      },
      "text/plain": [
       "HBox(children=(IntProgress(value=0, max=51353), HTML(value='')))"
      ]
     },
     "metadata": {},
     "output_type": "display_data"
    },
    {
     "name": "stdout",
     "output_type": "stream",
     "text": [
      "\n"
     ]
    },
    {
     "data": {
      "application/vnd.jupyter.widget-view+json": {
       "model_id": "be75ef28cc49472681cea8c503d189c0",
       "version_major": 2,
       "version_minor": 0
      },
      "text/plain": [
       "HBox(children=(IntProgress(value=0, max=21174), HTML(value='')))"
      ]
     },
     "metadata": {},
     "output_type": "display_data"
    },
    {
     "name": "stdout",
     "output_type": "stream",
     "text": [
      "\n"
     ]
    },
    {
     "data": {
      "text/plain": [
       "array([0.02914226, 0.10787098, 0.10240341, 0.11926306, 0.13023256,\n",
       "       0.12469136, 0.13809934, 0.14025245, 0.12220447, 0.10931174,\n",
       "       0.08272506, 0.07692308, 0.04545455, 0.02439024, 0.06666667,\n",
       "       0.04444444, 0.06060606, 0.06896552, 0.        , 0.        ,\n",
       "       0.06666667, 0.14285714, 0.        , 0.15384615, 0.16666667,\n",
       "       0.        , 0.        , 0.        , 0.        , 0.        ,\n",
       "       0.        , 0.        , 0.        , 0.        , 0.        ,\n",
       "       0.        , 0.        , 0.        , 0.        , 0.        ,\n",
       "       0.25      , 0.        , 0.        , 0.        , 0.33333333,\n",
       "       0.        , 0.        , 0.33333333, 0.66666667, 0.        ,\n",
       "       0.        , 0.        , 0.        , 0.        , 0.        ,\n",
       "       0.        , 0.        , 0.        , 0.        , 0.        ,\n",
       "       0.        , 0.        , 0.        , 0.        , 0.        ,\n",
       "       0.        ])"
      ]
     },
     "execution_count": 42,
     "metadata": {},
     "output_type": "execute_result"
    }
   ],
   "source": [
    "bigram_adv = bigramAnvanced(train, test)\n",
    "bigram_adv"
   ]
  },
  {
   "cell_type": "code",
   "execution_count": 43,
   "metadata": {},
   "outputs": [
    {
     "data": {
      "text/plain": [
       "(array([0.02914226, 0.24424384, 0.47289322, 0.64971061, 0.72395349,\n",
       "        0.76067019, 0.76428366, 0.77325853, 0.76517572, 0.74898785]),\n",
       " array([0.02914226, 0.11781114, 0.10015211, 0.11893699, 0.12790698,\n",
       "        0.12416226, 0.1366638 , 0.14165498, 0.11980831, 0.11875843]),\n",
       " array([0.02914226, 0.10787098, 0.10240341, 0.11926306, 0.13023256,\n",
       "        0.12469136, 0.13809934, 0.14025245, 0.12220447, 0.10931174]))"
      ]
     },
     "execution_count": 43,
     "metadata": {},
     "output_type": "execute_result"
    }
   ],
   "source": [
    "tmp_pad[:10], bigram[:10], bigram_adv[:10]"
   ]
  },
  {
   "cell_type": "code",
   "execution_count": 46,
   "metadata": {},
   "outputs": [
    {
     "data": {
      "image/png": "[encoded data removed]",
      "text/plain": [
       "<Figure size 864x504 with 1 Axes>"
      ]
     },
     "metadata": {},
     "output_type": "display_data"
    }
   ],
   "source": [
    "sns.set_style(\"whitegrid\")\n",
    "plt.figure(figsize=(12, 7))\n",
    "#plt.hist(lens_train, bins=len(np.unique(lens_train)))\n",
    "bound = 10\n",
    "grid = np.arange(0, bound, 1)\n",
    "plt.plot(grid, tmp_pad[:bound] * 100, label='простая верхняя оценка')\n",
    "plt.plot(grid, advanced[:bound] * 100, label=\"простая нижняя оценка\")\n",
    "plt.plot(grid, bigram_adv[:bound] * 100, label=\"биграммная нижняя оценка\")\n",
    "\n",
    "plt.fill_between(grid, tmp_pad[:bound] * 100, bigram_adv[:bound] * 100, alpha=0.2)\n",
    "plt.xlim([0, bound-1])\n",
    "plt.ylim([0, 80])\n",
    "plt.xlabel(\"Длина префикса\", fontsize=20)\n",
    "plt.ylabel(\"Точность предсказания (в процентах)\", fontsize=20)\n",
    "plt.legend(fontsize=15)\n",
    "#plt.show()\n",
    "plt.savefig('upper_and_lower_advanced.png')"
   ]
  },
  {
   "cell_type": "code",
   "execution_count": null,
   "metadata": {},
   "outputs": [],
   "source": []
  }
 ],
 "metadata": {
  "kernelspec": {
   "display_name": "Python 3",
   "language": "python",
   "name": "python3"
  },
  "language_info": {
   "codemirror_mode": {
    "name": "ipython",
    "version": 3
   },
   "file_extension": ".py",
   "mimetype": "text/x-python",
   "name": "python",
   "nbconvert_exporter": "python",
   "pygments_lexer": "ipython3",
   "version": "3.7.1"
  }
 },
 "nbformat": 4,
 "nbformat_minor": 2
}
