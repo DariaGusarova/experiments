{
 "cells": [
  {
   "cell_type": "code",
   "execution_count": 1,
   "metadata": {},
   "outputs": [],
   "source": [
    "import numpy as np\n",
    "import matplotlib.pyplot as plt\n",
    "import pandas as pd\n",
    "from nltk.tokenize import WordPunctTokenizer\n",
    "import gensim\n",
    "from gensim.models import KeyedVectors\n",
    "from IPython.display import clear_output\n",
    "\n",
    "%matplotlib inline"
   ]
  },
  {
   "cell_type": "code",
   "execution_count": 2,
   "metadata": {},
   "outputs": [],
   "source": [
    "def read_queries(path):\n",
    "    f = open(path, 'r')\n",
    "    #tokenizer = WordPunctTokenizer()\n",
    "    queries = []\n",
    "    \n",
    "    for line in f:\n",
    "        #queries.append(tokenizer.tokenize(line.split('\\t')[1][5:].lower()))\n",
    "        queries.append(line.split('\\t')[1][5:].lower().split())\n",
    "    return queries"
   ]
  },
  {
   "cell_type": "code",
   "execution_count": 3,
   "metadata": {},
   "outputs": [
    {
     "data": {
      "text/plain": [
       "([['за', 'рулем'],\n",
       "  ['решу', 'о'],\n",
       "  ['марципан'],\n",
       "  ['календарь', 'с', 'девушками', 'на', '2019'],\n",
       "  ['можно', 'ли', 'в', '2020', 'году', 'сдавать', 'фзк', 'огэ']],\n",
       " [['вк'],\n",
       "  ['учебник', 'по', 'обществознанию', '9', 'класс', 'боголюбова'],\n",
       "  ['жена', 'и', 'муж', 'куколд'],\n",
       "  ['самое', 'главное', 'грибы'],\n",
       "  ['почта', 'дчл', 'в', 'москве', 'стоимость']])"
      ]
     },
     "execution_count": 3,
     "metadata": {},
     "output_type": "execute_result"
    }
   ],
   "source": [
    "path = 'data/train.crash'\n",
    "train = read_queries(path)\n",
    "path = 'data/test_queries.crash'\n",
    "test = read_queries(path)\n",
    "train[:5], test[:5]"
   ]
  },
  {
   "cell_type": "markdown",
   "metadata": {},
   "source": [
    "### Простые модели: биграммы, триграммы"
   ]
  },
  {
   "cell_type": "code",
   "execution_count": 4,
   "metadata": {},
   "outputs": [],
   "source": [
    "from collections import Counter\n",
    "from tqdm import tqdm"
   ]
  },
  {
   "cell_type": "code",
   "execution_count": 5,
   "metadata": {},
   "outputs": [],
   "source": [
    "cnt = Counter()\n",
    "\n",
    "for i in range(len(train)):\n",
    "    sent = train[i]\n",
    "    for j in range(len(sent) - 1):\n",
    "        if sent[j] not in cnt.keys():\n",
    "            cnt[sent[j]] = Counter()\n",
    "        cnt[sent[j]][sent[j+1]] += 1"
   ]
  },
  {
   "cell_type": "code",
   "execution_count": 6,
   "metadata": {},
   "outputs": [
    {
     "data": {
      "text/plain": [
       "0.0603326615781879"
      ]
     },
     "execution_count": 6,
     "metadata": {},
     "output_type": "execute_result"
    }
   ],
   "source": [
    "all_accr = np.zeros(len(test))\n",
    "\n",
    "for i in range(len(test)):\n",
    "    sent = test[i]\n",
    "    accr = 0\n",
    "    for j in range(len(sent) - 1):\n",
    "        if sent[j] in cnt.keys() and cnt[sent[j]].most_common(1)[0][0] == sent[j+1]:\n",
    "            accr += 1\n",
    "    all_accr[i] = accr / len(sent)\n",
    "all_accr.mean()"
   ]
  },
  {
   "cell_type": "code",
   "execution_count": 7,
   "metadata": {},
   "outputs": [],
   "source": [
    "cnt = dict()\n",
    "\n",
    "for i in range(len(train)):\n",
    "    sent = train[i]\n",
    "    for j in range(len(sent) - 2):\n",
    "        if (sent[j], sent[j+1]) not in cnt.keys():\n",
    "            cnt[(sent[j], sent[j+1])] = Counter()\n",
    "        cnt[(sent[j], sent[j+1])][sent[j+2]] += 1"
   ]
  },
  {
   "cell_type": "code",
   "execution_count": 8,
   "metadata": {},
   "outputs": [
    {
     "data": {
      "text/plain": [
       "0.023262237002763315"
      ]
     },
     "execution_count": 8,
     "metadata": {},
     "output_type": "execute_result"
    }
   ],
   "source": [
    "all_accr = np.zeros(len(test))\n",
    "\n",
    "for i in range(len(test)):\n",
    "    sent = test[i]\n",
    "    accr = 0\n",
    "    for j in range(len(sent) - 2):\n",
    "        if (sent[j], sent[j+1]) in cnt.keys() and cnt[(sent[j], sent[j+1])].most_common(1)[0][0] == sent[j+2]:\n",
    "            accr += 1\n",
    "    all_accr[i] = accr / len(sent)\n",
    "all_accr.mean()"
   ]
  },
  {
   "cell_type": "code",
   "execution_count": null,
   "metadata": {},
   "outputs": [],
   "source": []
  }
 ],
 "metadata": {
  "kernelspec": {
   "display_name": "Python 3",
   "language": "python",
   "name": "python3"
  },
  "language_info": {
   "codemirror_mode": {
    "name": "ipython",
    "version": 3
   },
   "file_extension": ".py",
   "mimetype": "text/x-python",
   "name": "python",
   "nbconvert_exporter": "python",
   "pygments_lexer": "ipython3",
   "version": "3.7.1"
  }
 },
 "nbformat": 4,
 "nbformat_minor": 2
}
