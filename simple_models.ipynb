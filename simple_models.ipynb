{
 "cells": [
  {
   "cell_type": "code",
   "execution_count": 1,
   "metadata": {},
   "outputs": [],
   "source": [
    "import numpy as np\n",
    "import matplotlib.pyplot as plt\n",
    "import pandas as pd\n",
    "from nltk.tokenize import WordPunctTokenizer\n",
    "import gensim\n",
    "from gensim.models import KeyedVectors\n",
    "from IPython.display import clear_output\n",
    "\n",
    "%matplotlib inline"
   ]
  },
  {
   "cell_type": "code",
   "execution_count": 3,
   "metadata": {},
   "outputs": [],
   "source": [
    "def read_queries_crash(path):\n",
    "    f = open(path, 'r')\n",
    "    #tokenizer = WordPunctTokenizer()\n",
    "    queries = []\n",
    "    \n",
    "    for line in f:\n",
    "        #queries.append(tokenizer.tokenize(line.split('\\t')[1][5:].lower()))\n",
    "        queries.append(line.split('\\t')[1][5:].lower().split())\n",
    "    return queries\n",
    "\n",
    "def read_queries(path):\n",
    "    f = open(path, 'r')\n",
    "    queries = []\n",
    "    \n",
    "    for line in f:\n",
    "        queries.append(line.lower().split())\n",
    "    return queries"
   ]
  },
  {
   "cell_type": "code",
   "execution_count": 5,
   "metadata": {},
   "outputs": [
    {
     "data": {
      "text/plain": [
       "([['сибирские', 'сети', 'личный', 'кабинет', 'бердск'],\n",
       "  ['1', 'сантим', 'алжир', '1964'],\n",
       "  ['река', 'колыма', 'на', 'карте', 'россии'],\n",
       "  ['ноофен', 'для', 'каких', 'болезней'],\n",
       "  ['маус', 'хаус', 'спб']],\n",
       " [['сбербанк', 'в', 'кунцево', 'плаза'],\n",
       "  ['торт', 'дикая', 'вишня'],\n",
       "  ['тася', 'кривун', 'танцы', 'на', 'тнт'],\n",
       "  ['рбт', 'ру'],\n",
       "  ['toplü', 'vay', 'sexx']])"
      ]
     },
     "execution_count": 5,
     "metadata": {},
     "output_type": "execute_result"
    }
   ],
   "source": [
    "path = 'data/requests.uniq.train'\n",
    "train = read_queries(path)\n",
    "path = 'data/requests.uniq.test'\n",
    "test = read_queries(path)\n",
    "train[:5], test[:5]"
   ]
  },
  {
   "cell_type": "markdown",
   "metadata": {},
   "source": [
    "### Простые модели: биграммы, триграммы"
   ]
  },
  {
   "cell_type": "code",
   "execution_count": 6,
   "metadata": {},
   "outputs": [],
   "source": [
    "from collections import Counter\n",
    "from tqdm import tqdm"
   ]
  },
  {
   "cell_type": "code",
   "execution_count": 8,
   "metadata": {},
   "outputs": [],
   "source": [
    "cnt = Counter()\n",
    "\n",
    "for i in range(len(train)):\n",
    "    sent = train[i]\n",
    "    for j in range(len(sent) - 1):\n",
    "        if sent[j] not in cnt.keys():\n",
    "            cnt[sent[j]] = Counter()\n",
    "        cnt[sent[j]][sent[j+1]] += 1"
   ]
  },
  {
   "cell_type": "code",
   "execution_count": 14,
   "metadata": {},
   "outputs": [
    {
     "data": {
      "text/plain": [
       "0.11447715446574952"
      ]
     },
     "execution_count": 14,
     "metadata": {},
     "output_type": "execute_result"
    }
   ],
   "source": [
    "all_accr = 0\n",
    "count = 0\n",
    "\n",
    "for i in range(len(test)):\n",
    "    sent = test[i]\n",
    "    for j in range(len(sent) - 1):\n",
    "        if sent[j] in cnt.keys() and cnt[sent[j]].most_common(1)[0][0] == sent[j+1]:\n",
    "            all_accr += 1\n",
    "    count += len(sent)-1\n",
    "all_accr / count"
   ]
  },
  {
   "cell_type": "code",
   "execution_count": 15,
   "metadata": {},
   "outputs": [],
   "source": [
    "cnt = dict()\n",
    "\n",
    "for i in range(len(train)):\n",
    "    sent = train[i]\n",
    "    for j in range(len(sent) - 2):\n",
    "        if (sent[j], sent[j+1]) not in cnt.keys():\n",
    "            cnt[(sent[j], sent[j+1])] = Counter()\n",
    "        cnt[(sent[j], sent[j+1])][sent[j+2]] += 1"
   ]
  },
  {
   "cell_type": "code",
   "execution_count": 16,
   "metadata": {},
   "outputs": [
    {
     "data": {
      "text/plain": [
       "0.0602608881602395"
      ]
     },
     "execution_count": 16,
     "metadata": {},
     "output_type": "execute_result"
    }
   ],
   "source": [
    "all_accr = 0\n",
    "count = 0\n",
    "\n",
    "for i in range(len(test)):\n",
    "    sent = test[i]\n",
    "\n",
    "    for j in range(len(sent) - 2):\n",
    "        if (sent[j], sent[j+1]) in cnt.keys() and cnt[(sent[j], sent[j+1])].most_common(1)[0][0] == sent[j+2]:\n",
    "            all_accr += 1\n",
    "    count += len(sent) - 1\n",
    "all_accr / count"
   ]
  },
  {
   "cell_type": "code",
   "execution_count": null,
   "metadata": {},
   "outputs": [],
   "source": []
  }
 ],
 "metadata": {
  "kernelspec": {
   "display_name": "Python 3",
   "language": "python",
   "name": "python3"
  },
  "language_info": {
   "codemirror_mode": {
    "name": "ipython",
    "version": 3
   },
   "file_extension": ".py",
   "mimetype": "text/x-python",
   "name": "python",
   "nbconvert_exporter": "python",
   "pygments_lexer": "ipython3",
   "version": "3.7.1"
  }
 },
 "nbformat": 4,
 "nbformat_minor": 2
}
